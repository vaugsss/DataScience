{
 "cells": [
  {
   "cell_type": "markdown",
   "metadata": {},
   "source": [
    "<center> DBMS - Exploratory Analysis </center>\n",
    "\n",
    "Source: https://www.kaggle.com/datasets/ravivarmaodugu/databases-dbms-2024/data <br>\n",
    "The DB-Engines Ranking ranks database management systems according to their popularity. The ranking is updated monthly. <br>\n",
    "\n",
    "The Databases_DBMS_2024 dataset provides information about leading databases with a worldwide footprint. The original dataframe was obtained from the DB-Engines website: https://db-engines.com/en/ <br>\n",
    "\n",
    "\n",
    "Date of collect of this datasource: April, 23, 2024.\n"
   ]
  },
  {
   "cell_type": "markdown",
   "metadata": {},
   "source": [
    "1. Loading the libraries into the environment:"
   ]
  },
  {
   "cell_type": "code",
   "execution_count": 109,
   "metadata": {},
   "outputs": [],
   "source": [
    "import numpy as np                             ## Used to calculates math formulas over the data\n",
    "import pandas as pd                            ## Used for data analysis and manipulation\n",
    "import matplotlib.pyplot as plt                       ## Used to created visualizations.\n",
    "import seaborn as sns                          ## Used to draw informative statistical graphics.\n",
    "import platform                                ## Used to access underlying platform's identifying data.\n"
   ]
  },
  {
   "cell_type": "markdown",
   "metadata": {},
   "source": [
    "2. Detailing the version's used:\n",
    "\n"
   ]
  },
  {
   "cell_type": "code",
   "execution_count": 111,
   "metadata": {},
   "outputs": [
    {
     "name": "stdout",
     "output_type": "stream",
     "text": [
      "Numpy -  1.26.4\n",
      "Pandas -  2.2.1\n",
      "Seaborn -  0.13.2\n",
      "Plataform -  1.0.8\n",
      "Python -  3.12.1\n"
     ]
    }
   ],
   "source": [
    "print(\"Numpy - \", np.__version__)\n",
    "print(\"Pandas - \", pd.__version__)\n",
    "print(\"Seaborn - \", sns.__version__)\n",
    "print(\"Plataform - \", platform.__version__)\n",
    "print(\"Python - \", platform.python_version())"
   ]
  },
  {
   "cell_type": "markdown",
   "metadata": {},
   "source": [
    "3. Loading the dataset into the environment."
   ]
  },
  {
   "cell_type": "code",
   "execution_count": 84,
   "metadata": {},
   "outputs": [],
   "source": [
    "df = pd.read_csv(\"Databases_DBMS_2024.csv\", encoding='latin-1')"
   ]
  },
  {
   "cell_type": "code",
   "execution_count": 85,
   "metadata": {},
   "outputs": [
    {
     "data": {
      "text/html": [
       "<div>\n",
       "<style scoped>\n",
       "    .dataframe tbody tr th:only-of-type {\n",
       "        vertical-align: middle;\n",
       "    }\n",
       "\n",
       "    .dataframe tbody tr th {\n",
       "        vertical-align: top;\n",
       "    }\n",
       "\n",
       "    .dataframe thead th {\n",
       "        text-align: right;\n",
       "    }\n",
       "</style>\n",
       "<table border=\"1\" class=\"dataframe\">\n",
       "  <thead>\n",
       "    <tr style=\"text-align: right;\">\n",
       "      <th></th>\n",
       "      <th>Sno</th>\n",
       "      <th>DBMS</th>\n",
       "      <th>Vendor_Name</th>\n",
       "      <th>Vendor_Country</th>\n",
       "      <th>DBMS_Type</th>\n",
       "      <th>Multi_model_capability</th>\n",
       "      <th>Score_Feb_2024</th>\n",
       "      <th>Score_Jan_2024</th>\n",
       "      <th>Score_Feb_2023</th>\n",
       "      <th>Rank_Feb_2024</th>\n",
       "      <th>Rank_Jan_2024</th>\n",
       "      <th>Rank_Feb_2023</th>\n",
       "    </tr>\n",
       "  </thead>\n",
       "  <tbody>\n",
       "    <tr>\n",
       "      <th>0</th>\n",
       "      <td>1</td>\n",
       "      <td>Oracle</td>\n",
       "      <td>Oracle Corporation</td>\n",
       "      <td>United States</td>\n",
       "      <td>Relational</td>\n",
       "      <td>Yes</td>\n",
       "      <td>1241.45</td>\n",
       "      <td>-6.05</td>\n",
       "      <td>-6.08</td>\n",
       "      <td>1</td>\n",
       "      <td>1.0</td>\n",
       "      <td>1.0</td>\n",
       "    </tr>\n",
       "    <tr>\n",
       "      <th>1</th>\n",
       "      <td>2</td>\n",
       "      <td>MySQL</td>\n",
       "      <td>Oracle Corporation</td>\n",
       "      <td>United States</td>\n",
       "      <td>Relational</td>\n",
       "      <td>Yes</td>\n",
       "      <td>1106.67</td>\n",
       "      <td>-16.79</td>\n",
       "      <td>-88.78</td>\n",
       "      <td>2</td>\n",
       "      <td>2.0</td>\n",
       "      <td>2.0</td>\n",
       "    </tr>\n",
       "    <tr>\n",
       "      <th>2</th>\n",
       "      <td>3</td>\n",
       "      <td>Microsoft SQL Server</td>\n",
       "      <td>Microsoft Corporation</td>\n",
       "      <td>United States</td>\n",
       "      <td>Relational</td>\n",
       "      <td>Yes</td>\n",
       "      <td>853.57</td>\n",
       "      <td>-23.03</td>\n",
       "      <td>-75.52</td>\n",
       "      <td>3</td>\n",
       "      <td>3.0</td>\n",
       "      <td>3.0</td>\n",
       "    </tr>\n",
       "    <tr>\n",
       "      <th>3</th>\n",
       "      <td>4</td>\n",
       "      <td>PostgreSQL</td>\n",
       "      <td>PostgreSQL Global Development Group</td>\n",
       "      <td>United States</td>\n",
       "      <td>Relational</td>\n",
       "      <td>Yes</td>\n",
       "      <td>629.41</td>\n",
       "      <td>-19.55</td>\n",
       "      <td>12.9</td>\n",
       "      <td>4</td>\n",
       "      <td>4.0</td>\n",
       "      <td>4.0</td>\n",
       "    </tr>\n",
       "    <tr>\n",
       "      <th>4</th>\n",
       "      <td>5</td>\n",
       "      <td>MongoDB</td>\n",
       "      <td>MongoDB, Inc.</td>\n",
       "      <td>United States</td>\n",
       "      <td>Document</td>\n",
       "      <td>Yes</td>\n",
       "      <td>420.36</td>\n",
       "      <td>2.88</td>\n",
       "      <td>-32.41</td>\n",
       "      <td>5</td>\n",
       "      <td>5.0</td>\n",
       "      <td>5.0</td>\n",
       "    </tr>\n",
       "  </tbody>\n",
       "</table>\n",
       "</div>"
      ],
      "text/plain": [
       "   Sno                  DBMS                          Vendor_Name  \\\n",
       "0    1                Oracle                   Oracle Corporation   \n",
       "1    2                 MySQL                   Oracle Corporation   \n",
       "2    3  Microsoft SQL Server                Microsoft Corporation   \n",
       "3    4            PostgreSQL  PostgreSQL Global Development Group   \n",
       "4    5               MongoDB                        MongoDB, Inc.   \n",
       "\n",
       "  Vendor_Country   DBMS_Type Multi_model_capability  Score_Feb_2024  \\\n",
       "0  United States  Relational                    Yes         1241.45   \n",
       "1  United States  Relational                    Yes         1106.67   \n",
       "2  United States  Relational                    Yes          853.57   \n",
       "3  United States  Relational                    Yes          629.41   \n",
       "4  United States    Document                    Yes          420.36   \n",
       "\n",
       "  Score_Jan_2024 Score_Feb_2023  Rank_Feb_2024  Rank_Jan_2024  Rank_Feb_2023  \n",
       "0          -6.05          -6.08              1            1.0            1.0  \n",
       "1         -16.79         -88.78              2            2.0            2.0  \n",
       "2         -23.03         -75.52              3            3.0            3.0  \n",
       "3         -19.55           12.9              4            4.0            4.0  \n",
       "4           2.88         -32.41              5            5.0            5.0  "
      ]
     },
     "execution_count": 85,
     "metadata": {},
     "output_type": "execute_result"
    }
   ],
   "source": [
    "df.head(5)"
   ]
  },
  {
   "cell_type": "markdown",
   "metadata": {},
   "source": [
    "4. Variable Analysis: <br>\n",
    "\n",
    "**Sno** - Identifier for all entries (index). Only used to count. <br>\n",
    "**DBMS** - Categorical value, can be used to count, mode or frequency. <br>\n",
    "**Vendor_Name** - Categorical value, can be used to count, mode or frequency. <br>\n",
    "**Vendor_country** - Categorical value, can be used to count, mode or frequency.<br>\n",
    "**DBMS_Type** - Categorical value, can be used to count, mode or frequency. <br>\n",
    "**Multi_model_capability** - Binary/Categorical value, with the options - Yes or No. Can be used to count, mode or frequency. <br>\n",
    "**Score_feb_2024** - Numeric value, can be used with mean, std, min, max, frequency, mode, etc. <br>\n",
    "**Score_Jan_2023** - Numeric value, can be used with mean, std, min, max, frequency, mode, etc. <br>\n",
    "**Score_feb_2023** - Numeric value, can be used with mean, std, min, max, frequency, mode, etc. <br>\n",
    "**Rank_Feb_2024** - Ordered variable, only used to count. <br>\n",
    "**Rank_Jan_2024** - Ordered variable, only used to count. <br>\n",
    "**Rank_Feb_2023** - Ordered variable, only used to count. <br>"
   ]
  },
  {
   "cell_type": "markdown",
   "metadata": {},
   "source": [
    "5. Exploring the datasets / Stastistical overview"
   ]
  },
  {
   "cell_type": "code",
   "execution_count": 86,
   "metadata": {},
   "outputs": [
    {
     "name": "stdout",
     "output_type": "stream",
     "text": [
      "<class 'pandas.core.frame.DataFrame'>\n",
      "RangeIndex: 417 entries, 0 to 416\n",
      "Data columns (total 12 columns):\n",
      " #   Column                  Non-Null Count  Dtype  \n",
      "---  ------                  --------------  -----  \n",
      " 0   Sno                     417 non-null    int64  \n",
      " 1   DBMS                    417 non-null    object \n",
      " 2   Vendor_Name             417 non-null    object \n",
      " 3   Vendor_Country          417 non-null    object \n",
      " 4   DBMS_Type               417 non-null    object \n",
      " 5   Multi_model_capability  417 non-null    object \n",
      " 6   Score_Feb_2024          417 non-null    float64\n",
      " 7   Score_Jan_2024          403 non-null    object \n",
      " 8   Score_Feb_2023          389 non-null    object \n",
      " 9   Rank_Feb_2024           417 non-null    int64  \n",
      " 10  Rank_Jan_2024           416 non-null    float64\n",
      " 11  Rank_Feb_2023           399 non-null    float64\n",
      "dtypes: float64(3), int64(2), object(7)\n",
      "memory usage: 39.2+ KB\n"
     ]
    }
   ],
   "source": [
    "df.info()"
   ]
  },
  {
   "cell_type": "markdown",
   "metadata": {},
   "source": [
    "After this print, it is possible to see that the column 9 - **Rank_Feb_2024** is defined with int64 type, different from similar column 10 - **Rank_Jan_2024** and column 11 - **Rank_Feb_2023** <br>\n",
    "\n",
    "In this case, change the type of column 9 to float so it will be at the same type."
   ]
  },
  {
   "cell_type": "code",
   "execution_count": 87,
   "metadata": {},
   "outputs": [],
   "source": [
    "df = df.astype({\"Rank_Feb_2024\": float})"
   ]
  },
  {
   "cell_type": "code",
   "execution_count": 88,
   "metadata": {},
   "outputs": [
    {
     "name": "stdout",
     "output_type": "stream",
     "text": [
      "<class 'pandas.core.series.Series'>\n",
      "RangeIndex: 417 entries, 0 to 416\n",
      "Series name: Rank_Feb_2024\n",
      "Non-Null Count  Dtype  \n",
      "--------------  -----  \n",
      "417 non-null    float64\n",
      "dtypes: float64(1)\n",
      "memory usage: 3.4 KB\n"
     ]
    }
   ],
   "source": [
    "df['Rank_Feb_2024'].info()"
   ]
  },
  {
   "cell_type": "markdown",
   "metadata": {},
   "source": [
    "The values for Score_Jan_2024 and Score_Feb_2023 are defined as \"object\" based on the output for df.info() command. But, based on the df.head(5), we can confirm the values are numeric. Let's take a look if we could see the issue:"
   ]
  },
  {
   "cell_type": "code",
   "execution_count": 89,
   "metadata": {},
   "outputs": [
    {
     "data": {
      "text/plain": [
       "array(['-6.05', '-16.79', '-23.03', '-19.55', '2.88', '1.33', '-0.33',\n",
       "       '-0.18', '1.53', '2.08', '-4.5', '-1.77', '-2', '-1.07', '1.96',\n",
       "       '-1.51', '-3.62', '-1.15', '0.15', '-1.94', '-1.56', '-1.57',\n",
       "       '-1.22', '-0.53', '-0.09', '0.09', '-1.48', '0.92', '-0.78',\n",
       "       '-1.27', '-2.07', '0.42', '0.12', '-0.71', '0.71', '0.63', '-0.66',\n",
       "       '-0.29', '-0.74', '0.88', '0.57', '-0.1', '-0.7', '-0.45', '-0.77',\n",
       "       '-0.27', '-0.25', '0.18', '-0.42', '-0.34', '0.04', '0.3', '-0.13',\n",
       "       '-0.15', '-0.65', '0.33', '0.22', '0.02', '-0.03', '-0.11',\n",
       "       '-0.01', '-0.22', '0.37', '0.23', '0.29', '-0.41', '0.5', '0.11',\n",
       "       '0.13', '-0.07', '-0.28', '0.01', '-0.62', '-0.02', '-0.4', '1.44',\n",
       "       '0.14', '-0.19', '0.08', '-0.14', '-0.55', '-0.59', '0.16',\n",
       "       '-0.39', '0.24', '-0.21', '-0.12', '0.06', nan, '-0.05', '-0.04',\n",
       "       '0.1', '-0.06', '-0.2', '-0.26', '0.05', '-0.24', '0.07', '-0.16',\n",
       "       '-0.08', '-0.35', '0.03', '-0.23', '-0.17', '-0.3', '0.17',\n",
       "       '-0.32', '±0.00'], dtype=object)"
      ]
     },
     "execution_count": 89,
     "metadata": {},
     "output_type": "execute_result"
    }
   ],
   "source": [
    "df['Score_Jan_2024'].unique()"
   ]
  },
  {
   "cell_type": "markdown",
   "metadata": {},
   "source": [
    "The df.unique() command prompt to use that there are something strange. There are some values with the chracter ±. It is not an error, it is the caracterisct of the values. This value is calculated based on the previous month and current month value. In that case, let's replace the ±0.00 to 0.00 <br>\n",
    "\n",
    "I created a function called changetype\n"
   ]
  },
  {
   "cell_type": "code",
   "execution_count": 90,
   "metadata": {},
   "outputs": [],
   "source": [
    "def changetype(df, column):\n",
    "    df[column] = df[column].replace(to_replace='±', value='', regex=True).astype(float).round(2)"
   ]
  },
  {
   "cell_type": "code",
   "execution_count": 91,
   "metadata": {},
   "outputs": [],
   "source": [
    "changetype(df, 'Score_Jan_2024')"
   ]
  },
  {
   "cell_type": "code",
   "execution_count": 92,
   "metadata": {},
   "outputs": [
    {
     "name": "stdout",
     "output_type": "stream",
     "text": [
      "<class 'pandas.core.frame.DataFrame'>\n",
      "RangeIndex: 417 entries, 0 to 416\n",
      "Data columns (total 12 columns):\n",
      " #   Column                  Non-Null Count  Dtype  \n",
      "---  ------                  --------------  -----  \n",
      " 0   Sno                     417 non-null    int64  \n",
      " 1   DBMS                    417 non-null    object \n",
      " 2   Vendor_Name             417 non-null    object \n",
      " 3   Vendor_Country          417 non-null    object \n",
      " 4   DBMS_Type               417 non-null    object \n",
      " 5   Multi_model_capability  417 non-null    object \n",
      " 6   Score_Feb_2024          417 non-null    float64\n",
      " 7   Score_Jan_2024          403 non-null    float64\n",
      " 8   Score_Feb_2023          389 non-null    object \n",
      " 9   Rank_Feb_2024           417 non-null    float64\n",
      " 10  Rank_Jan_2024           416 non-null    float64\n",
      " 11  Rank_Feb_2023           399 non-null    float64\n",
      "dtypes: float64(5), int64(1), object(6)\n",
      "memory usage: 39.2+ KB\n"
     ]
    }
   ],
   "source": [
    "df.info()"
   ]
  },
  {
   "cell_type": "markdown",
   "metadata": {},
   "source": [
    "Doing the same thing with the Score_Feb_2023 column:\n"
   ]
  },
  {
   "cell_type": "code",
   "execution_count": 93,
   "metadata": {},
   "outputs": [
    {
     "data": {
      "text/plain": [
       "array(['-6.08', '-88.78', '-75.52', '12.9', '-32.41', '-13.12', '-2.86',\n",
       "       '-10.74', '11.8', '-15.38', '-17.86', '-6.95', '0.42', '4.57',\n",
       "       '3.21', '0.81', '16.58', '-6.31', '11.17', '-11.79', '-2.32',\n",
       "       '-8.82', '-4.45', '-1.28', '-3.71', '-4.46', '-4.52', '-0.96',\n",
       "       '-3.93', '3.23', '2.33', '0.69', '-0.9', '-4.38', '-2.75', '0.05',\n",
       "       '2.69', '-2.14', '-2.77', '4.34', nan, '0.01', '-0.78', '-1.77',\n",
       "       '-4.95', '-4.3', '-0.64', '-0.31', '-0.95', '1.55', '0.03', '0.97',\n",
       "       '-0.93', '-0.37', '-0.28', '-0.56', '-1.32', '-1.35', '0.53',\n",
       "       '-0.45', '-0.62', '-0.67', '-0.55', '-1.13', '-0.25', '-0.08',\n",
       "       '-0.14', '-0.26', '1.11', '-0.32', '-0.79', '-1.61', '0.09',\n",
       "       '0.33', '-1.66', '1.84', '-0.21', '2.53', '0.06', '-1.09', '-0.85',\n",
       "       '-1.54', '-1.75', '1.21', '1.16', '-0.27', '-0.76', '-0.89',\n",
       "       '-0.23', '-0.04', '0.94', '-1.11', '2.08', '-1.01', '0.84', '1.49',\n",
       "       '-0.33', '0.08', '-1.24', '0.21', '0.2', '-0.63', '-0.05', '-0.42',\n",
       "       '0.24', '0.31', '0.74', '-0.51', '0.27', '-0.39', '-0.11', '0.75',\n",
       "       '0.37', '0.04', '-0.13', '-0.81', '-0.49', '-0.01', '0.55',\n",
       "       '-0.03', '0.49', '-0.35', '1.67', '0.15', '-0.75', '-0.19', '-0.1',\n",
       "       '-0.43', '-0.06', '0.14', '-0.3', '-0.22', '-0.09', '0.02',\n",
       "       '-0.36', '-0.68', '-0.87', '0.47', '0.1', '0.35', '1.17', '-0.12',\n",
       "       '-0.46', '-0.17', '-0.15', '0.25', '-0.41', '-0.07', '0.07',\n",
       "       '-0.52', '-0.29', '0.61', '-0.24', '0.11', '0.26', '0.12', '-0.4',\n",
       "       '-0.02', '0.13', '-0.59', '0.17', '-0.18', '0.19', '0.16', '-0.2',\n",
       "       '-0.16', '±0.00'], dtype=object)"
      ]
     },
     "execution_count": 93,
     "metadata": {},
     "output_type": "execute_result"
    }
   ],
   "source": [
    "df['Score_Feb_2023'].unique()"
   ]
  },
  {
   "cell_type": "code",
   "execution_count": 94,
   "metadata": {},
   "outputs": [],
   "source": [
    "changetype(df, 'Score_Feb_2023')"
   ]
  },
  {
   "cell_type": "code",
   "execution_count": 95,
   "metadata": {},
   "outputs": [
    {
     "name": "stdout",
     "output_type": "stream",
     "text": [
      "<class 'pandas.core.frame.DataFrame'>\n",
      "RangeIndex: 417 entries, 0 to 416\n",
      "Data columns (total 12 columns):\n",
      " #   Column                  Non-Null Count  Dtype  \n",
      "---  ------                  --------------  -----  \n",
      " 0   Sno                     417 non-null    int64  \n",
      " 1   DBMS                    417 non-null    object \n",
      " 2   Vendor_Name             417 non-null    object \n",
      " 3   Vendor_Country          417 non-null    object \n",
      " 4   DBMS_Type               417 non-null    object \n",
      " 5   Multi_model_capability  417 non-null    object \n",
      " 6   Score_Feb_2024          417 non-null    float64\n",
      " 7   Score_Jan_2024          403 non-null    float64\n",
      " 8   Score_Feb_2023          389 non-null    float64\n",
      " 9   Rank_Feb_2024           417 non-null    float64\n",
      " 10  Rank_Jan_2024           416 non-null    float64\n",
      " 11  Rank_Feb_2023           399 non-null    float64\n",
      "dtypes: float64(6), int64(1), object(5)\n",
      "memory usage: 39.2+ KB\n"
     ]
    }
   ],
   "source": [
    "df.info()"
   ]
  },
  {
   "cell_type": "markdown",
   "metadata": {},
   "source": [
    "Now all the columns with numeric values were corrected with corresponding types."
   ]
  },
  {
   "cell_type": "markdown",
   "metadata": {},
   "source": [
    "6. Getting more information about the dataframe\n"
   ]
  },
  {
   "cell_type": "code",
   "execution_count": 96,
   "metadata": {},
   "outputs": [
    {
     "name": "stdout",
     "output_type": "stream",
     "text": [
      "Number of rows: 417\n",
      "Number of columns: 12\n",
      "Number of missing values: 61\n"
     ]
    }
   ],
   "source": [
    "print(\"Number of rows:\", df.shape[0])\n",
    "print(\"Number of columns:\", df.shape[1])\n",
    "print(\"Number of missing values:\", sum(df.isna().sum()))"
   ]
  },
  {
   "cell_type": "markdown",
   "metadata": {},
   "source": [
    "7. Detailing more about the missing values\n"
   ]
  },
  {
   "cell_type": "code",
   "execution_count": 97,
   "metadata": {},
   "outputs": [
    {
     "data": {
      "text/plain": [
       "Sno                        0\n",
       "DBMS                       0\n",
       "Vendor_Name                0\n",
       "Vendor_Country             0\n",
       "DBMS_Type                  0\n",
       "Multi_model_capability     0\n",
       "Score_Feb_2024             0\n",
       "Score_Jan_2024            14\n",
       "Score_Feb_2023            28\n",
       "Rank_Feb_2024              0\n",
       "Rank_Jan_2024              1\n",
       "Rank_Feb_2023             18\n",
       "dtype: int64"
      ]
     },
     "execution_count": 97,
     "metadata": {},
     "output_type": "execute_result"
    }
   ],
   "source": [
    "df.isnull().sum()"
   ]
  },
  {
   "cell_type": "markdown",
   "metadata": {},
   "source": [
    "It is possible to check some missing values at the Columns: Score_Jan_2024, Score_Feb_2023, Rank_Jan_2024,  Rank_Feb_2023. <br>\n",
    "\n",
    "For the Numeric variables - Score_Jan_2024 and Score_Feb_2023 - NaN values will be replaced by the mean\n",
    "\n",
    "For that case, I created an function called replacenavalues:"
   ]
  },
  {
   "cell_type": "code",
   "execution_count": 98,
   "metadata": {},
   "outputs": [],
   "source": [
    "def replacenavalues(df, column):\n",
    "    df[column] = df[column].fillna(value=df[column].mean())"
   ]
  },
  {
   "cell_type": "code",
   "execution_count": 99,
   "metadata": {},
   "outputs": [
    {
     "name": "stdout",
     "output_type": "stream",
     "text": [
      "The Value of mean of column Score_Jan_2024 is: -0.28\n"
     ]
    }
   ],
   "source": [
    "print(\"The Value of mean of column Score_Jan_2024 is:\", df['Score_Jan_2024'].mean().round(2))"
   ]
  },
  {
   "cell_type": "code",
   "execution_count": 100,
   "metadata": {},
   "outputs": [],
   "source": [
    "#Replacing the NaN values with the mean\n",
    "replacenavalues(df, 'Score_Jan_2024')"
   ]
  },
  {
   "cell_type": "code",
   "execution_count": 101,
   "metadata": {},
   "outputs": [
    {
     "data": {
      "text/plain": [
       "Sno                        0\n",
       "DBMS                       0\n",
       "Vendor_Name                0\n",
       "Vendor_Country             0\n",
       "DBMS_Type                  0\n",
       "Multi_model_capability     0\n",
       "Score_Feb_2024             0\n",
       "Score_Jan_2024             0\n",
       "Score_Feb_2023            28\n",
       "Rank_Feb_2024              0\n",
       "Rank_Jan_2024              1\n",
       "Rank_Feb_2023             18\n",
       "dtype: int64"
      ]
     },
     "execution_count": 101,
     "metadata": {},
     "output_type": "execute_result"
    }
   ],
   "source": [
    "df.isnull().sum()"
   ]
  },
  {
   "cell_type": "code",
   "execution_count": 102,
   "metadata": {},
   "outputs": [
    {
     "name": "stdout",
     "output_type": "stream",
     "text": [
      "The Value of mean of column Score_Feb_2024 is: -0.79\n"
     ]
    }
   ],
   "source": [
    "print(\"The Value of mean of column Score_Feb_2024 is:\", df['Score_Feb_2023'].mean().round(2))"
   ]
  },
  {
   "cell_type": "code",
   "execution_count": 103,
   "metadata": {},
   "outputs": [],
   "source": [
    "#Replacing the NaN values with the mean\n",
    "replacenavalues(df, 'Score_Feb_2023')"
   ]
  },
  {
   "cell_type": "code",
   "execution_count": 104,
   "metadata": {},
   "outputs": [
    {
     "data": {
      "text/plain": [
       "Sno                        0\n",
       "DBMS                       0\n",
       "Vendor_Name                0\n",
       "Vendor_Country             0\n",
       "DBMS_Type                  0\n",
       "Multi_model_capability     0\n",
       "Score_Feb_2024             0\n",
       "Score_Jan_2024             0\n",
       "Score_Feb_2023             0\n",
       "Rank_Feb_2024              0\n",
       "Rank_Jan_2024              1\n",
       "Rank_Feb_2023             18\n",
       "dtype: int64"
      ]
     },
     "execution_count": 104,
     "metadata": {},
     "output_type": "execute_result"
    }
   ],
   "source": [
    "df.isnull().sum()"
   ]
  },
  {
   "cell_type": "markdown",
   "metadata": {},
   "source": [
    "Reffering to the columns Rank_Jan_2024, Rank_Feb_2023 with NAN values, based on the variable analysis, this type of column can be removed because it will not be useful for the EDA. Next step is to remove them"
   ]
  },
  {
   "cell_type": "code",
   "execution_count": 105,
   "metadata": {},
   "outputs": [],
   "source": [
    "df.drop(columns=['Rank_Jan_2024','Rank_Feb_2023'], inplace=True)"
   ]
  },
  {
   "cell_type": "code",
   "execution_count": 106,
   "metadata": {},
   "outputs": [
    {
     "data": {
      "text/html": [
       "<div>\n",
       "<style scoped>\n",
       "    .dataframe tbody tr th:only-of-type {\n",
       "        vertical-align: middle;\n",
       "    }\n",
       "\n",
       "    .dataframe tbody tr th {\n",
       "        vertical-align: top;\n",
       "    }\n",
       "\n",
       "    .dataframe thead th {\n",
       "        text-align: right;\n",
       "    }\n",
       "</style>\n",
       "<table border=\"1\" class=\"dataframe\">\n",
       "  <thead>\n",
       "    <tr style=\"text-align: right;\">\n",
       "      <th></th>\n",
       "      <th>Sno</th>\n",
       "      <th>DBMS</th>\n",
       "      <th>Vendor_Name</th>\n",
       "      <th>Vendor_Country</th>\n",
       "      <th>DBMS_Type</th>\n",
       "      <th>Multi_model_capability</th>\n",
       "      <th>Score_Feb_2024</th>\n",
       "      <th>Score_Jan_2024</th>\n",
       "      <th>Score_Feb_2023</th>\n",
       "      <th>Rank_Feb_2024</th>\n",
       "    </tr>\n",
       "  </thead>\n",
       "  <tbody>\n",
       "    <tr>\n",
       "      <th>0</th>\n",
       "      <td>1</td>\n",
       "      <td>Oracle</td>\n",
       "      <td>Oracle Corporation</td>\n",
       "      <td>United States</td>\n",
       "      <td>Relational</td>\n",
       "      <td>Yes</td>\n",
       "      <td>1241.45</td>\n",
       "      <td>-6.05</td>\n",
       "      <td>-6.08</td>\n",
       "      <td>1.0</td>\n",
       "    </tr>\n",
       "    <tr>\n",
       "      <th>1</th>\n",
       "      <td>2</td>\n",
       "      <td>MySQL</td>\n",
       "      <td>Oracle Corporation</td>\n",
       "      <td>United States</td>\n",
       "      <td>Relational</td>\n",
       "      <td>Yes</td>\n",
       "      <td>1106.67</td>\n",
       "      <td>-16.79</td>\n",
       "      <td>-88.78</td>\n",
       "      <td>2.0</td>\n",
       "    </tr>\n",
       "    <tr>\n",
       "      <th>2</th>\n",
       "      <td>3</td>\n",
       "      <td>Microsoft SQL Server</td>\n",
       "      <td>Microsoft Corporation</td>\n",
       "      <td>United States</td>\n",
       "      <td>Relational</td>\n",
       "      <td>Yes</td>\n",
       "      <td>853.57</td>\n",
       "      <td>-23.03</td>\n",
       "      <td>-75.52</td>\n",
       "      <td>3.0</td>\n",
       "    </tr>\n",
       "    <tr>\n",
       "      <th>3</th>\n",
       "      <td>4</td>\n",
       "      <td>PostgreSQL</td>\n",
       "      <td>PostgreSQL Global Development Group</td>\n",
       "      <td>United States</td>\n",
       "      <td>Relational</td>\n",
       "      <td>Yes</td>\n",
       "      <td>629.41</td>\n",
       "      <td>-19.55</td>\n",
       "      <td>12.90</td>\n",
       "      <td>4.0</td>\n",
       "    </tr>\n",
       "    <tr>\n",
       "      <th>4</th>\n",
       "      <td>5</td>\n",
       "      <td>MongoDB</td>\n",
       "      <td>MongoDB, Inc.</td>\n",
       "      <td>United States</td>\n",
       "      <td>Document</td>\n",
       "      <td>Yes</td>\n",
       "      <td>420.36</td>\n",
       "      <td>2.88</td>\n",
       "      <td>-32.41</td>\n",
       "      <td>5.0</td>\n",
       "    </tr>\n",
       "  </tbody>\n",
       "</table>\n",
       "</div>"
      ],
      "text/plain": [
       "   Sno                  DBMS                          Vendor_Name  \\\n",
       "0    1                Oracle                   Oracle Corporation   \n",
       "1    2                 MySQL                   Oracle Corporation   \n",
       "2    3  Microsoft SQL Server                Microsoft Corporation   \n",
       "3    4            PostgreSQL  PostgreSQL Global Development Group   \n",
       "4    5               MongoDB                        MongoDB, Inc.   \n",
       "\n",
       "  Vendor_Country   DBMS_Type Multi_model_capability  Score_Feb_2024  \\\n",
       "0  United States  Relational                    Yes         1241.45   \n",
       "1  United States  Relational                    Yes         1106.67   \n",
       "2  United States  Relational                    Yes          853.57   \n",
       "3  United States  Relational                    Yes          629.41   \n",
       "4  United States    Document                    Yes          420.36   \n",
       "\n",
       "   Score_Jan_2024  Score_Feb_2023  Rank_Feb_2024  \n",
       "0           -6.05           -6.08            1.0  \n",
       "1          -16.79          -88.78            2.0  \n",
       "2          -23.03          -75.52            3.0  \n",
       "3          -19.55           12.90            4.0  \n",
       "4            2.88          -32.41            5.0  "
      ]
     },
     "execution_count": 106,
     "metadata": {},
     "output_type": "execute_result"
    }
   ],
   "source": [
    "df.head()"
   ]
  },
  {
   "cell_type": "markdown",
   "metadata": {},
   "source": [
    "After some data transformation, let's do some evaluation. \n",
    "For a company, it is very important during the decision to use a DBMS, understading and verifying if your product needs a specific DBMS_type, if the selected one is scalable, popular in the market, with good support, etc. \n",
    "\n",
    "Let's do some analysis by the DBMS Type\n"
   ]
  },
  {
   "cell_type": "code",
   "execution_count": 134,
   "metadata": {},
   "outputs": [
    {
     "data": {
      "text/plain": [
       "(Text(0.5, 0, ''),\n",
       " Text(0, 0.5, ''),\n",
       " ([], []),\n",
       " ([0, 1, 2, 3, 4, 5, 6, 7, 8, 9, 10, 11, 12, 13, 14, 15, 16],\n",
       "  [Text(0, 0, 'Relational'),\n",
       "   Text(1, 0, 'Multi-model'),\n",
       "   Text(2, 0, 'Key-value'),\n",
       "   Text(3, 0, 'Time Series'),\n",
       "   Text(4, 0, 'Document'),\n",
       "   Text(5, 0, 'Graph'),\n",
       "   Text(6, 0, 'Search engine'),\n",
       "   Text(7, 0, 'Object oriented'),\n",
       "   Text(8, 0, 'RDF'),\n",
       "   Text(9, 0, 'Wide column'),\n",
       "   Text(10, 0, 'Multivalue'),\n",
       "   Text(11, 0, 'Vector'),\n",
       "   Text(12, 0, 'Spatial'),\n",
       "   Text(13, 0, 'Native XML'),\n",
       "   Text(14, 0, 'Navigational'),\n",
       "   Text(15, 0, 'Content'),\n",
       "   Text(16, 0, 'Event')]))"
      ]
     },
     "execution_count": 134,
     "metadata": {},
     "output_type": "execute_result"
    },
    {
     "data": {
      "image/png": "[encoded data removed]",
      "text/plain": [
       "<Figure size 1200x600 with 1 Axes>"
      ]
     },
     "metadata": {},
     "output_type": "display_data"
    }
   ],
   "source": [
    "plt.figure(figsize=(12,6))\n",
    "\n",
    "plt.subplot(111)\n",
    "plt.title(\"DBMS Type (Count)\", color='black', fontsize=18,)\n",
    "ax = sns.countplot(x='DBMS_Type', data=df, alpha=0.5, order=df['DBMS_Type'].value_counts().index, color='orange')\n",
    "\n",
    "for p in ax.patches: \n",
    "        ax.annotate('{:.0f}'.format(p.get_height()), (p.get_x()+0.05, p.get_height()+3))\n",
    "plt.xlabel(None), plt.ylabel(None), plt.yticks([]), plt.xticks(rotation=45)"
   ]
  }
 ],
 "metadata": {
  "kernelspec": {
   "display_name": "Python 3",
   "language": "python",
   "name": "python3"
  },
  "language_info": {
   "codemirror_mode": {
    "name": "ipython",
    "version": 3
   },
   "file_extension": ".py",
   "mimetype": "text/x-python",
   "name": "python",
   "nbconvert_exporter": "python",
   "pygments_lexer": "ipython3",
   "version": "3.12.1"
  }
 },
 "nbformat": 4,
 "nbformat_minor": 2
}
