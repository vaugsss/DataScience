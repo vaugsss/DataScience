{
 "cells": [
  {
   "cell_type": "code",
   "execution_count": 4,
   "metadata": {},
   "outputs": [],
   "source": [
    "#Correspondancy Analysis for multiple variables\n",
    "\n",
    "import pandas as pd\n",
    "import numpy as np\n",
    "from scipy.stats import chi2_contingency\n",
    "import statsmodels.api as sm\n",
    "import seaborn as sns\n",
    "import matplotlib.pyplot as plt\n",
    "import prince\n",
    "import plotly.graph_objects as go\n",
    "from itertools import combinations"
   ]
  },
  {
   "cell_type": "code",
   "execution_count": 6,
   "metadata": {},
   "outputs": [],
   "source": [
    "#Reading the CSV file\n",
    "\n",
    "mca_data = pd.read_csv(r\"C:\\Users\\vitor\\Documentos\\Kaggle\\salaries.csv\")"
   ]
  },
  {
   "cell_type": "code",
   "execution_count": 7,
   "metadata": {},
   "outputs": [
    {
     "data": {
      "text/html": [
       "<div>\n",
       "<style scoped>\n",
       "    .dataframe tbody tr th:only-of-type {\n",
       "        vertical-align: middle;\n",
       "    }\n",
       "\n",
       "    .dataframe tbody tr th {\n",
       "        vertical-align: top;\n",
       "    }\n",
       "\n",
       "    .dataframe thead th {\n",
       "        text-align: right;\n",
       "    }\n",
       "</style>\n",
       "<table border=\"1\" class=\"dataframe\">\n",
       "  <thead>\n",
       "    <tr style=\"text-align: right;\">\n",
       "      <th></th>\n",
       "      <th>work_year</th>\n",
       "      <th>experience_level</th>\n",
       "      <th>employment_type</th>\n",
       "      <th>job_title</th>\n",
       "      <th>salary</th>\n",
       "      <th>salary_currency</th>\n",
       "      <th>salary_in_usd</th>\n",
       "      <th>employee_residence</th>\n",
       "      <th>remote_ratio</th>\n",
       "      <th>company_location</th>\n",
       "      <th>company_size</th>\n",
       "    </tr>\n",
       "  </thead>\n",
       "  <tbody>\n",
       "    <tr>\n",
       "      <th>0</th>\n",
       "      <td>2024</td>\n",
       "      <td>MI</td>\n",
       "      <td>FT</td>\n",
       "      <td>Data Scientist</td>\n",
       "      <td>120000</td>\n",
       "      <td>USD</td>\n",
       "      <td>120000</td>\n",
       "      <td>AU</td>\n",
       "      <td>0</td>\n",
       "      <td>AU</td>\n",
       "      <td>S</td>\n",
       "    </tr>\n",
       "    <tr>\n",
       "      <th>1</th>\n",
       "      <td>2024</td>\n",
       "      <td>MI</td>\n",
       "      <td>FT</td>\n",
       "      <td>Data Scientist</td>\n",
       "      <td>70000</td>\n",
       "      <td>USD</td>\n",
       "      <td>70000</td>\n",
       "      <td>AU</td>\n",
       "      <td>0</td>\n",
       "      <td>AU</td>\n",
       "      <td>S</td>\n",
       "    </tr>\n",
       "    <tr>\n",
       "      <th>2</th>\n",
       "      <td>2024</td>\n",
       "      <td>MI</td>\n",
       "      <td>CT</td>\n",
       "      <td>Data Scientist</td>\n",
       "      <td>130000</td>\n",
       "      <td>USD</td>\n",
       "      <td>130000</td>\n",
       "      <td>US</td>\n",
       "      <td>0</td>\n",
       "      <td>US</td>\n",
       "      <td>M</td>\n",
       "    </tr>\n",
       "    <tr>\n",
       "      <th>3</th>\n",
       "      <td>2024</td>\n",
       "      <td>MI</td>\n",
       "      <td>CT</td>\n",
       "      <td>Data Scientist</td>\n",
       "      <td>110000</td>\n",
       "      <td>USD</td>\n",
       "      <td>110000</td>\n",
       "      <td>US</td>\n",
       "      <td>0</td>\n",
       "      <td>US</td>\n",
       "      <td>M</td>\n",
       "    </tr>\n",
       "    <tr>\n",
       "      <th>4</th>\n",
       "      <td>2024</td>\n",
       "      <td>MI</td>\n",
       "      <td>FT</td>\n",
       "      <td>Data Science Manager</td>\n",
       "      <td>240000</td>\n",
       "      <td>USD</td>\n",
       "      <td>240000</td>\n",
       "      <td>US</td>\n",
       "      <td>0</td>\n",
       "      <td>US</td>\n",
       "      <td>M</td>\n",
       "    </tr>\n",
       "  </tbody>\n",
       "</table>\n",
       "</div>"
      ],
      "text/plain": [
       "   work_year experience_level employment_type             job_title  salary  \\\n",
       "0       2024               MI              FT        Data Scientist  120000   \n",
       "1       2024               MI              FT        Data Scientist   70000   \n",
       "2       2024               MI              CT        Data Scientist  130000   \n",
       "3       2024               MI              CT        Data Scientist  110000   \n",
       "4       2024               MI              FT  Data Science Manager  240000   \n",
       "\n",
       "  salary_currency  salary_in_usd employee_residence  remote_ratio  \\\n",
       "0             USD         120000                 AU             0   \n",
       "1             USD          70000                 AU             0   \n",
       "2             USD         130000                 US             0   \n",
       "3             USD         110000                 US             0   \n",
       "4             USD         240000                 US             0   \n",
       "\n",
       "  company_location company_size  \n",
       "0               AU            S  \n",
       "1               AU            S  \n",
       "2               US            M  \n",
       "3               US            M  \n",
       "4               US            M  "
      ]
     },
     "execution_count": 7,
     "metadata": {},
     "output_type": "execute_result"
    }
   ],
   "source": [
    "#Checking the dataframe\n",
    "mca_data.head()"
   ]
  },
  {
   "cell_type": "code",
   "execution_count": 8,
   "metadata": {},
   "outputs": [
    {
     "name": "stdout",
     "output_type": "stream",
     "text": [
      "<class 'pandas.core.frame.DataFrame'>\n",
      "RangeIndex: 16494 entries, 0 to 16493\n",
      "Data columns (total 11 columns):\n",
      " #   Column              Non-Null Count  Dtype \n",
      "---  ------              --------------  ----- \n",
      " 0   work_year           16494 non-null  int64 \n",
      " 1   experience_level    16494 non-null  object\n",
      " 2   employment_type     16494 non-null  object\n",
      " 3   job_title           16494 non-null  object\n",
      " 4   salary              16494 non-null  int64 \n",
      " 5   salary_currency     16494 non-null  object\n",
      " 6   salary_in_usd       16494 non-null  int64 \n",
      " 7   employee_residence  16494 non-null  object\n",
      " 8   remote_ratio        16494 non-null  int64 \n",
      " 9   company_location    16494 non-null  object\n",
      " 10  company_size        16494 non-null  object\n",
      "dtypes: int64(4), object(7)\n",
      "memory usage: 1.4+ MB\n"
     ]
    }
   ],
   "source": [
    "mca_data.info()"
   ]
  },
  {
   "cell_type": "markdown",
   "metadata": {},
   "source": [
    "It is possible to determine: there are some categorical variables like job_title, employee_residence, company_size. Let's check if there are relations between this three!\n"
   ]
  },
  {
   "cell_type": "code",
   "execution_count": 11,
   "metadata": {},
   "outputs": [],
   "source": [
    "#creating a table containing only the categorical tables\n",
    "\n",
    "mca_data_categorical = mca_data[['job_title','employee_residence','company_size']]"
   ]
  },
  {
   "cell_type": "code",
   "execution_count": 12,
   "metadata": {},
   "outputs": [
    {
     "name": "stdout",
     "output_type": "stream",
     "text": [
      "('job_title', 'employee_residence') \n",
      "\n",
      "employee_residence               AD  AE  AM  AR  AS  AT  AU  BA  BE  BG  ...  \\\n",
      "job_title                                                                ...   \n",
      "AI Architect                      0   0   0   0   0   0   0   0   1   0  ...   \n",
      "AI Developer                      0   0   0   0   0   0   0   1   0   0  ...   \n",
      "AI Engineer                       0   1   0   0   0   0   0   0   0   0  ...   \n",
      "AI Product Manager                0   0   0   0   0   0   0   0   0   0  ...   \n",
      "AI Programmer                     0   0   0   0   0   0   0   1   0   0  ...   \n",
      "...                              ..  ..  ..  ..  ..  ..  ..  ..  ..  ..  ...   \n",
      "Sales Data Analyst                0   0   0   0   0   0   0   0   0   0  ...   \n",
      "Software Data Engineer            0   0   0   0   0   0   0   0   0   0  ...   \n",
      "Staff Data Analyst                0   0   0   0   0   0   0   0   0   0  ...   \n",
      "Staff Data Scientist              0   0   0   0   0   0   0   0   0   0  ...   \n",
      "Staff Machine Learning Engineer   0   0   0   0   0   0   0   0   0   0  ...   \n",
      "\n",
      "employee_residence               SI  TH  TN  TR  UA  UG  US  UZ  VN  ZA  \n",
      "job_title                                                                \n",
      "AI Architect                      0   0   0   0   0   0  26   0   0   0  \n",
      "AI Developer                      0   0   0   0   3   0   7   0   0   0  \n",
      "AI Engineer                       0   0   0   0   0   0  99   0   0   0  \n",
      "AI Product Manager                0   0   0   0   0   0   2   0   0   0  \n",
      "AI Programmer                     0   0   0   0   0   0   0   0   0   0  \n",
      "...                              ..  ..  ..  ..  ..  ..  ..  ..  ..  ..  \n",
      "Sales Data Analyst                0   0   0   0   0   0   0   0   0   0  \n",
      "Software Data Engineer            0   0   0   0   0   0   1   0   0   0  \n",
      "Staff Data Analyst                0   0   0   0   0   0   0   0   0   0  \n",
      "Staff Data Scientist              0   0   0   0   0   0   2   0   0   0  \n",
      "Staff Machine Learning Engineer   0   0   0   0   0   0   1   0   0   0  \n",
      "\n",
      "[155 rows x 88 columns]\n",
      "qui² value: 87419.81\n",
      "p-value: 0.0 \n",
      "\n",
      "('job_title', 'company_size') \n",
      "\n",
      "company_size                     L    M  S\n",
      "job_title                                 \n",
      "AI Architect                     3   26  0\n",
      "AI Developer                     2   13  4\n",
      "AI Engineer                      6  111  1\n",
      "AI Product Manager               1    2  0\n",
      "AI Programmer                    2    2  3\n",
      "...                             ..  ... ..\n",
      "Sales Data Analyst               0    1  0\n",
      "Software Data Engineer           2    1  0\n",
      "Staff Data Analyst               1    1  1\n",
      "Staff Data Scientist             0    2  0\n",
      "Staff Machine Learning Engineer  0    1  0\n",
      "\n",
      "[155 rows x 3 columns]\n",
      "qui² value: 5831.73\n",
      "p-value: 0.0 \n",
      "\n",
      "('employee_residence', 'company_size') \n",
      "\n",
      "company_size          L      M   S\n",
      "employee_residence                \n",
      "AD                    0      0   1\n",
      "AE                    3      0   2\n",
      "AM                    1      0   1\n",
      "AR                    2      9   2\n",
      "AS                    0      1   0\n",
      "...                 ...    ...  ..\n",
      "UG                    0      1   0\n",
      "US                  762  13613  52\n",
      "UZ                    2      1   0\n",
      "VN                    0      6   0\n",
      "ZA                    1     18   0\n",
      "\n",
      "[88 rows x 3 columns]\n",
      "qui² value: 4943.96\n",
      "p-value: 0.0 \n",
      "\n"
     ]
    }
   ],
   "source": [
    "#Creating all the possible contingency tables for the categorical variables\n",
    "for item in list(combinations(mca_data_categorical.columns, 2)):\n",
    "    print(item, \"\\n\")\n",
    "    table = pd.crosstab(mca_data_categorical[item[0]], mca_data_categorical[item[1]])\n",
    "    \n",
    "    print(table)\n",
    "    \n",
    "    chi2, pvalor, gl, freq_esp = chi2_contingency(table)\n",
    "\n",
    "    print(f\"qui² value: {round(chi2, 2)}\")\n",
    "    print(f\"p-value: {round(pvalor, 4)}\", \"\\n\")"
   ]
  },
  {
   "cell_type": "code",
   "execution_count": 15,
   "metadata": {},
   "outputs": [],
   "source": [
    "#Creating the MCA\n",
    "mca = prince.MCA(n_components=2).fit(mca_data_categorical)"
   ]
  },
  {
   "cell_type": "code",
   "execution_count": 16,
   "metadata": {},
   "outputs": [
    {
     "name": "stdout",
     "output_type": "stream",
     "text": [
      "          eigenvalue % of variance % of variance (cumulative)\n",
      "component                                                    \n",
      "0              0.623         0.77%                      0.77%\n",
      "1              0.569         0.70%                      1.47%\n"
     ]
    }
   ],
   "source": [
    "#Obtaining the eigenvalues (autovalues)\n",
    "table_autovalues = mca.eigenvalues_summary\n",
    "\n",
    "print(table_autovalues)"
   ]
  },
  {
   "cell_type": "code",
   "execution_count": 18,
   "metadata": {},
   "outputs": [
    {
     "name": "stdout",
     "output_type": "stream",
     "text": [
      "                                      0         1\n",
      "job_title_AI Architect        -0.024627 -0.272411\n",
      "job_title_AI Developer         4.638094 -0.327432\n",
      "job_title_AI Engineer         -0.050047 -0.148279\n",
      "job_title_AI Product Manager   2.098332 -0.409591\n",
      "job_title_AI Programmer       11.112790 -1.385154\n",
      "...                                 ...       ...\n",
      "employee_residence_VN          1.302770 -0.309297\n",
      "employee_residence_ZA         -0.413353 -0.064977\n",
      "company_size_L                 1.548251 -0.407518\n",
      "company_size_M                -0.175298  0.031061\n",
      "company_size_S                 5.688086 -0.272494\n",
      "\n",
      "[246 rows x 2 columns]\n"
     ]
    }
   ],
   "source": [
    "#Obtaining the main categories for the variables\n",
    "coord_burt = mca.column_coordinates(mca_data_categorical)\n",
    "\n",
    "print(coord_burt)"
   ]
  },
  {
   "cell_type": "code",
   "execution_count": 20,
   "metadata": {},
   "outputs": [
    {
     "name": "stdout",
     "output_type": "stream",
     "text": [
      "                                      0         1\n",
      "job_title_AI Architect        -0.031208 -0.361210\n",
      "job_title_AI Developer         5.877513 -0.434167\n",
      "job_title_AI Engineer         -0.063421 -0.196615\n",
      "job_title_AI Product Manager   2.659061 -0.543107\n",
      "job_title_AI Programmer       14.082417 -1.836680\n",
      "...                                 ...       ...\n",
      "employee_residence_VN          1.650903 -0.410121\n",
      "employee_residence_ZA         -0.523812 -0.086158\n",
      "company_size_L                 1.961983 -0.540358\n",
      "company_size_M                -0.222142  0.041185\n",
      "company_size_S                 7.208091 -0.361321\n",
      "\n",
      "[246 rows x 2 columns]\n",
      "              0         1\n",
      "0      2.719337 -0.183850\n",
      "1      2.719337 -0.183850\n",
      "2     -0.165184  0.019157\n",
      "3     -0.165184  0.019157\n",
      "4     -0.061849 -0.014184\n",
      "...         ...       ...\n",
      "16489  0.562857 -0.174691\n",
      "16490  1.628802 -0.515387\n",
      "16491  2.311560 -0.115012\n",
      "16492  2.266910 -0.409220\n",
      "16493  2.489064 -0.549290\n",
      "\n",
      "[16494 rows x 2 columns]\n"
     ]
    }
   ],
   "source": [
    "#Creating the standard coordinates for the variables categories\n",
    "standard_coord = mca.column_coordinates(mca_data_categorical)/np.sqrt(mca.eigenvalues_)\n",
    "coord_obs = mca.row_coordinates(mca_data_categorical)\n"
   ]
  },
  {
   "cell_type": "code",
   "execution_count": 26,
   "metadata": {},
   "outputs": [],
   "source": [
    "#Creating the detailed dataframe\n",
    "\n",
    "chart = standard_coord.reset_index()\n",
    "\n",
    "name_categ=[]\n",
    "for col in mca_data_categorical:\n",
    "    name_categ.append(mca_data_categorical[col].sort_values(ascending=True).unique())\n",
    "    categories = pd.DataFrame(name_categ).stack().reset_index()\n",
    "\n",
    "var_chart = pd.Series(chart['index'].str.split('_', expand=True).iloc[:,0])\n",
    "\n",
    "chart_df_mca = pd.DataFrame({'category': chart['index'],\n",
    "                             'obs_x': chart[0],\n",
    "                             'obs_y': chart[1],\n",
    "                             'variable': var_chart,\n",
    "                             'category_id': categories[0]})"
   ]
  },
  {
   "cell_type": "code",
   "execution_count": 27,
   "metadata": {},
   "outputs": [
    {
     "data": {
      "image/png": "[encoded data removed]",
      "text/plain": [
       "<Figure size 640x480 with 1 Axes>"
      ]
     },
     "metadata": {},
     "output_type": "display_data"
    }
   ],
   "source": [
    "#Ploting the perceptual map\n",
    "def label_point(x, y, val, ax):\n",
    "    a = pd.concat({'x': x, 'y': y, 'val': val}, axis=1)\n",
    "    for i, point in a.iterrows():\n",
    "        ax.text(point['x'] + 0.03, point['y'] - 0.02, point['val'], fontsize=5)\n",
    "\n",
    "label_point(x = chart_df_mca['obs_x'],\n",
    "            y = chart_df_mca['obs_y'],\n",
    "            val = chart_df_mca['category_id'],\n",
    "            ax = plt.gca())\n",
    "\n",
    "sns.scatterplot(data=chart_df_mca, x='obs_x', y='obs_y', hue='variable', s=20)\n",
    "sns.despine(top=True, right=True, left=False, bottom=False)\n",
    "plt.axhline(y=0, color='lightgrey', ls='--', linewidth=0.8)\n",
    "plt.axvline(x=0, color='lightgrey', ls='--', linewidth=0.8)\n",
    "plt.tick_params(size=2, labelsize=6)\n",
    "plt.legend(bbox_to_anchor=(1.25,-0.2), fancybox=True, shadow=True, ncols=10, fontsize='5')\n",
    "plt.title(\"Perceptual Map - MCA\", fontsize=12)\n",
    "plt.xlabel(f\"Dim. 1: {table_autovalues.iloc[0,1]} from inertia\", fontsize=8)\n",
    "plt.ylabel(f\"Dim. 2: {table_autovalues.iloc[1,1]} from inertia\", fontsize=8)\n",
    "plt.show()"
   ]
  },
  {
   "cell_type": "markdown",
   "metadata": {},
   "source": [
    "Based on the graph output, even with the overlaying of observations, it is possible to determine: Besides some possible outliers, all the job_title, company_residence and company_size have a huge similarity"
   ]
  },
  {
   "cell_type": "code",
   "execution_count": null,
   "metadata": {},
   "outputs": [],
   "source": [
    "#End of code!"
   ]
  }
 ],
 "metadata": {
  "kernelspec": {
   "display_name": "base",
   "language": "python",
   "name": "python3"
  },
  "language_info": {
   "codemirror_mode": {
    "name": "ipython",
    "version": 3
   },
   "file_extension": ".py",
   "mimetype": "text/x-python",
   "name": "python",
   "nbconvert_exporter": "python",
   "pygments_lexer": "ipython3",
   "version": "3.12.4"
  }
 },
 "nbformat": 4,
 "nbformat_minor": 2
}
