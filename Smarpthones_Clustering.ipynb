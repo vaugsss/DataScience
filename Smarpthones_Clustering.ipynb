{
 "cells": [
  {
   "cell_type": "code",
   "execution_count": 29,
   "metadata": {},
   "outputs": [
    {
     "name": "stdout",
     "output_type": "stream",
     "text": [
      "Pandas version: 2.2.2\n",
      "Matplotlib version: 3.8.4\n",
      "Numpy version: 1.26.4\n",
      "Sklearn version: 1.4.2\n"
     ]
    }
   ],
   "source": [
    "import pandas as pd\n",
    "import numpy as np\n",
    "import matplotlib\n",
    "import matplotlib.pyplot as plt\n",
    "import seaborn as sns\n",
    "import sklearn\n",
    "import scipy.cluster.hierarchy as sch\n",
    "import scipy.stats as stats\n",
    "from scipy.stats import zscore\n",
    "from scipy.spatial.distance import pdist\n",
    "from sklearn.cluster import AgglomerativeClustering\n",
    "from sklearn.cluster import KMeans\n",
    "import pingouin as pg\n",
    "import plotly.express as px \n",
    "import plotly.io as pio\n",
    "import warnings\n",
    "warnings.simplefilter(action='ignore', category=FutureWarning)\n",
    "\n",
    "\n",
    "\n",
    "print(\"Pandas version:\", pd.__version__)\n",
    "print(\"Matplotlib version:\", matplotlib.__version__)\n",
    "print(\"Numpy version:\", np.__version__)\n",
    "print(\"Sklearn version:\", sklearn.__version__)"
   ]
  },
  {
   "cell_type": "code",
   "execution_count": 3,
   "metadata": {},
   "outputs": [],
   "source": [
    "#Reading the data\n",
    "df = pd.read_csv(r\"C:\\Users\\vitor\\Documentos\\Kaggle\\Smartphones DS\\smartphone_cleaned_v5.csv\")"
   ]
  },
  {
   "cell_type": "code",
   "execution_count": 4,
   "metadata": {},
   "outputs": [
    {
     "data": {
      "text/html": [
       "<div>\n",
       "<style scoped>\n",
       "    .dataframe tbody tr th:only-of-type {\n",
       "        vertical-align: middle;\n",
       "    }\n",
       "\n",
       "    .dataframe tbody tr th {\n",
       "        vertical-align: top;\n",
       "    }\n",
       "\n",
       "    .dataframe thead th {\n",
       "        text-align: right;\n",
       "    }\n",
       "</style>\n",
       "<table border=\"1\" class=\"dataframe\">\n",
       "  <thead>\n",
       "    <tr style=\"text-align: right;\">\n",
       "      <th></th>\n",
       "      <th>brand_name</th>\n",
       "      <th>model</th>\n",
       "      <th>price</th>\n",
       "      <th>rating</th>\n",
       "      <th>has_5g</th>\n",
       "      <th>has_nfc</th>\n",
       "      <th>has_ir_blaster</th>\n",
       "      <th>processor_brand</th>\n",
       "      <th>num_cores</th>\n",
       "      <th>processor_speed</th>\n",
       "      <th>battery_capacity</th>\n",
       "      <th>fast_charging_available</th>\n",
       "      <th>fast_charging</th>\n",
       "      <th>ram_capacity</th>\n",
       "      <th>internal_memory</th>\n",
       "      <th>screen_size</th>\n",
       "      <th>refresh_rate</th>\n",
       "      <th>resolution</th>\n",
       "      <th>num_rear_cameras</th>\n",
       "      <th>num_front_cameras</th>\n",
       "      <th>os</th>\n",
       "      <th>primary_camera_rear</th>\n",
       "      <th>primary_camera_front</th>\n",
       "      <th>extended_memory_available</th>\n",
       "      <th>extended_upto</th>\n",
       "    </tr>\n",
       "  </thead>\n",
       "  <tbody>\n",
       "    <tr>\n",
       "      <th>0</th>\n",
       "      <td>oneplus</td>\n",
       "      <td>OnePlus 11 5G</td>\n",
       "      <td>54999</td>\n",
       "      <td>89.0</td>\n",
       "      <td>True</td>\n",
       "      <td>True</td>\n",
       "      <td>False</td>\n",
       "      <td>snapdragon</td>\n",
       "      <td>8.0</td>\n",
       "      <td>3.2</td>\n",
       "      <td>5000.0</td>\n",
       "      <td>1</td>\n",
       "      <td>100.0</td>\n",
       "      <td>12.0</td>\n",
       "      <td>256.0</td>\n",
       "      <td>6.70</td>\n",
       "      <td>120</td>\n",
       "      <td>1440 x 3216</td>\n",
       "      <td>3</td>\n",
       "      <td>1.0</td>\n",
       "      <td>android</td>\n",
       "      <td>50.0</td>\n",
       "      <td>16.0</td>\n",
       "      <td>0</td>\n",
       "      <td>NaN</td>\n",
       "    </tr>\n",
       "    <tr>\n",
       "      <th>1</th>\n",
       "      <td>oneplus</td>\n",
       "      <td>OnePlus Nord CE 2 Lite 5G</td>\n",
       "      <td>19989</td>\n",
       "      <td>81.0</td>\n",
       "      <td>True</td>\n",
       "      <td>False</td>\n",
       "      <td>False</td>\n",
       "      <td>snapdragon</td>\n",
       "      <td>8.0</td>\n",
       "      <td>2.2</td>\n",
       "      <td>5000.0</td>\n",
       "      <td>1</td>\n",
       "      <td>33.0</td>\n",
       "      <td>6.0</td>\n",
       "      <td>128.0</td>\n",
       "      <td>6.59</td>\n",
       "      <td>120</td>\n",
       "      <td>1080 x 2412</td>\n",
       "      <td>3</td>\n",
       "      <td>1.0</td>\n",
       "      <td>android</td>\n",
       "      <td>64.0</td>\n",
       "      <td>16.0</td>\n",
       "      <td>1</td>\n",
       "      <td>1024.0</td>\n",
       "    </tr>\n",
       "    <tr>\n",
       "      <th>2</th>\n",
       "      <td>samsung</td>\n",
       "      <td>Samsung Galaxy A14 5G</td>\n",
       "      <td>16499</td>\n",
       "      <td>75.0</td>\n",
       "      <td>True</td>\n",
       "      <td>False</td>\n",
       "      <td>False</td>\n",
       "      <td>exynos</td>\n",
       "      <td>8.0</td>\n",
       "      <td>2.4</td>\n",
       "      <td>5000.0</td>\n",
       "      <td>1</td>\n",
       "      <td>15.0</td>\n",
       "      <td>4.0</td>\n",
       "      <td>64.0</td>\n",
       "      <td>6.60</td>\n",
       "      <td>90</td>\n",
       "      <td>1080 x 2408</td>\n",
       "      <td>3</td>\n",
       "      <td>1.0</td>\n",
       "      <td>android</td>\n",
       "      <td>50.0</td>\n",
       "      <td>13.0</td>\n",
       "      <td>1</td>\n",
       "      <td>1024.0</td>\n",
       "    </tr>\n",
       "    <tr>\n",
       "      <th>3</th>\n",
       "      <td>motorola</td>\n",
       "      <td>Motorola Moto G62 5G</td>\n",
       "      <td>14999</td>\n",
       "      <td>81.0</td>\n",
       "      <td>True</td>\n",
       "      <td>False</td>\n",
       "      <td>False</td>\n",
       "      <td>snapdragon</td>\n",
       "      <td>8.0</td>\n",
       "      <td>2.2</td>\n",
       "      <td>5000.0</td>\n",
       "      <td>1</td>\n",
       "      <td>NaN</td>\n",
       "      <td>6.0</td>\n",
       "      <td>128.0</td>\n",
       "      <td>6.55</td>\n",
       "      <td>120</td>\n",
       "      <td>1080 x 2400</td>\n",
       "      <td>3</td>\n",
       "      <td>1.0</td>\n",
       "      <td>android</td>\n",
       "      <td>50.0</td>\n",
       "      <td>16.0</td>\n",
       "      <td>1</td>\n",
       "      <td>1024.0</td>\n",
       "    </tr>\n",
       "    <tr>\n",
       "      <th>4</th>\n",
       "      <td>realme</td>\n",
       "      <td>Realme 10 Pro Plus</td>\n",
       "      <td>24999</td>\n",
       "      <td>82.0</td>\n",
       "      <td>True</td>\n",
       "      <td>False</td>\n",
       "      <td>False</td>\n",
       "      <td>dimensity</td>\n",
       "      <td>8.0</td>\n",
       "      <td>2.6</td>\n",
       "      <td>5000.0</td>\n",
       "      <td>1</td>\n",
       "      <td>67.0</td>\n",
       "      <td>6.0</td>\n",
       "      <td>128.0</td>\n",
       "      <td>6.70</td>\n",
       "      <td>120</td>\n",
       "      <td>1080 x 2412</td>\n",
       "      <td>3</td>\n",
       "      <td>1.0</td>\n",
       "      <td>android</td>\n",
       "      <td>108.0</td>\n",
       "      <td>16.0</td>\n",
       "      <td>0</td>\n",
       "      <td>NaN</td>\n",
       "    </tr>\n",
       "  </tbody>\n",
       "</table>\n",
       "</div>"
      ],
      "text/plain": [
       "  brand_name                      model  price  rating  has_5g  has_nfc  \\\n",
       "0    oneplus              OnePlus 11 5G  54999    89.0    True     True   \n",
       "1    oneplus  OnePlus Nord CE 2 Lite 5G  19989    81.0    True    False   \n",
       "2    samsung      Samsung Galaxy A14 5G  16499    75.0    True    False   \n",
       "3   motorola       Motorola Moto G62 5G  14999    81.0    True    False   \n",
       "4     realme         Realme 10 Pro Plus  24999    82.0    True    False   \n",
       "\n",
       "   has_ir_blaster processor_brand  num_cores  processor_speed  \\\n",
       "0           False      snapdragon        8.0              3.2   \n",
       "1           False      snapdragon        8.0              2.2   \n",
       "2           False          exynos        8.0              2.4   \n",
       "3           False      snapdragon        8.0              2.2   \n",
       "4           False       dimensity        8.0              2.6   \n",
       "\n",
       "   battery_capacity  fast_charging_available  fast_charging  ram_capacity  \\\n",
       "0            5000.0                        1          100.0          12.0   \n",
       "1            5000.0                        1           33.0           6.0   \n",
       "2            5000.0                        1           15.0           4.0   \n",
       "3            5000.0                        1            NaN           6.0   \n",
       "4            5000.0                        1           67.0           6.0   \n",
       "\n",
       "   internal_memory  screen_size  refresh_rate    resolution  num_rear_cameras  \\\n",
       "0            256.0         6.70           120  1440 x 3216                  3   \n",
       "1            128.0         6.59           120  1080 x 2412                  3   \n",
       "2             64.0         6.60            90  1080 x 2408                  3   \n",
       "3            128.0         6.55           120  1080 x 2400                  3   \n",
       "4            128.0         6.70           120  1080 x 2412                  3   \n",
       "\n",
       "   num_front_cameras       os  primary_camera_rear  primary_camera_front  \\\n",
       "0                1.0  android                 50.0                  16.0   \n",
       "1                1.0  android                 64.0                  16.0   \n",
       "2                1.0  android                 50.0                  13.0   \n",
       "3                1.0  android                 50.0                  16.0   \n",
       "4                1.0  android                108.0                  16.0   \n",
       "\n",
       "   extended_memory_available  extended_upto  \n",
       "0                          0            NaN  \n",
       "1                          1         1024.0  \n",
       "2                          1         1024.0  \n",
       "3                          1         1024.0  \n",
       "4                          0            NaN  "
      ]
     },
     "execution_count": 4,
     "metadata": {},
     "output_type": "execute_result"
    }
   ],
   "source": [
    "#Checking the variables and some of the observations\n",
    "pd.set_option('display.max_columns', None)\n",
    "df.head(5)"
   ]
  },
  {
   "cell_type": "code",
   "execution_count": 7,
   "metadata": {},
   "outputs": [
    {
     "name": "stdout",
     "output_type": "stream",
     "text": [
      "<class 'pandas.core.frame.DataFrame'>\n",
      "RangeIndex: 980 entries, 0 to 979\n",
      "Data columns (total 25 columns):\n",
      " #   Column                     Non-Null Count  Dtype  \n",
      "---  ------                     --------------  -----  \n",
      " 0   brand_name                 980 non-null    object \n",
      " 1   model                      980 non-null    object \n",
      " 2   price                      980 non-null    int64  \n",
      " 3   rating                     879 non-null    float64\n",
      " 4   has_5g                     980 non-null    bool   \n",
      " 5   has_nfc                    980 non-null    bool   \n",
      " 6   has_ir_blaster             980 non-null    bool   \n",
      " 7   processor_brand            960 non-null    object \n",
      " 8   num_cores                  974 non-null    float64\n",
      " 9   processor_speed            938 non-null    float64\n",
      " 10  battery_capacity           969 non-null    float64\n",
      " 11  fast_charging_available    980 non-null    int64  \n",
      " 12  fast_charging              769 non-null    float64\n",
      " 13  ram_capacity               980 non-null    float64\n",
      " 14  internal_memory            980 non-null    float64\n",
      " 15  screen_size                980 non-null    float64\n",
      " 16  refresh_rate               980 non-null    int64  \n",
      " 17  resolution                 980 non-null    object \n",
      " 18  num_rear_cameras           980 non-null    int64  \n",
      " 19  num_front_cameras          976 non-null    float64\n",
      " 20  os                         966 non-null    object \n",
      " 21  primary_camera_rear        980 non-null    float64\n",
      " 22  primary_camera_front       975 non-null    float64\n",
      " 23  extended_memory_available  980 non-null    int64  \n",
      " 24  extended_upto              500 non-null    float64\n",
      "dtypes: bool(3), float64(12), int64(5), object(5)\n",
      "memory usage: 171.4+ KB\n"
     ]
    }
   ],
   "source": [
    "#Getting some descriptions of the variables\n",
    "df.info()"
   ]
  },
  {
   "cell_type": "markdown",
   "metadata": {},
   "source": [
    "<b>Idea:</b> Create groups based on numeric values from the table. <br>\n",
    "<b>Proccess:</b> Two methods - hierarchical clustering and k-means. After both implementation, comparision to check which is more applicable. <br>\n",
    "<b>Outcome:</b> Create groups to assist vendors of tech products to determine and predict which will be the most selled smartphones. This analysis can help during the buying, stocking and marketing"
   ]
  },
  {
   "cell_type": "code",
   "execution_count": 8,
   "metadata": {},
   "outputs": [],
   "source": [
    "#Removing all the observations based on the missing values from Rating column\n",
    "\n",
    "df.dropna(subset=['rating'], how='all', inplace=True)"
   ]
  },
  {
   "cell_type": "code",
   "execution_count": 9,
   "metadata": {},
   "outputs": [
    {
     "name": "stdout",
     "output_type": "stream",
     "text": [
      "<class 'pandas.core.frame.DataFrame'>\n",
      "Index: 879 entries, 0 to 979\n",
      "Data columns (total 25 columns):\n",
      " #   Column                     Non-Null Count  Dtype  \n",
      "---  ------                     --------------  -----  \n",
      " 0   brand_name                 879 non-null    object \n",
      " 1   model                      879 non-null    object \n",
      " 2   price                      879 non-null    int64  \n",
      " 3   rating                     879 non-null    float64\n",
      " 4   has_5g                     879 non-null    bool   \n",
      " 5   has_nfc                    879 non-null    bool   \n",
      " 6   has_ir_blaster             879 non-null    bool   \n",
      " 7   processor_brand            862 non-null    object \n",
      " 8   num_cores                  873 non-null    float64\n",
      " 9   processor_speed            840 non-null    float64\n",
      " 10  battery_capacity           869 non-null    float64\n",
      " 11  fast_charging_available    879 non-null    int64  \n",
      " 12  fast_charging              705 non-null    float64\n",
      " 13  ram_capacity               879 non-null    float64\n",
      " 14  internal_memory            879 non-null    float64\n",
      " 15  screen_size                879 non-null    float64\n",
      " 16  refresh_rate               879 non-null    int64  \n",
      " 17  resolution                 879 non-null    object \n",
      " 18  num_rear_cameras           879 non-null    int64  \n",
      " 19  num_front_cameras          879 non-null    float64\n",
      " 20  os                         870 non-null    object \n",
      " 21  primary_camera_rear        879 non-null    float64\n",
      " 22  primary_camera_front       878 non-null    float64\n",
      " 23  extended_memory_available  879 non-null    int64  \n",
      " 24  extended_upto              465 non-null    float64\n",
      "dtypes: bool(3), float64(12), int64(5), object(5)\n",
      "memory usage: 160.5+ KB\n"
     ]
    }
   ],
   "source": [
    "df.info()"
   ]
  },
  {
   "cell_type": "markdown",
   "metadata": {},
   "source": [
    "It is possible to confirm the new results, now the number of observations are 879, there were 101 Null Values on Rating column "
   ]
  },
  {
   "cell_type": "markdown",
   "metadata": {},
   "source": [
    "3d plot based on camera values\n"
   ]
  },
  {
   "cell_type": "code",
   "execution_count": 10,
   "metadata": {},
   "outputs": [
    {
     "data": {
      "text/plain": [
       "Text(0, 0.5, 'Rating')"
      ]
     },
     "execution_count": 10,
     "metadata": {},
     "output_type": "execute_result"
    },
    {
     "data": {
      "image/png": "[encoded data removed]",
      "text/plain": [
       "<Figure size 800x600 with 1 Axes>"
      ]
     },
     "metadata": {},
     "output_type": "display_data"
    }
   ],
   "source": [
    "#Creating a scatterplot using varibales Reviews and Installs\n",
    "plt.figure(figsize=(8,6))\n",
    "plt.scatter(df['price'], df['rating'], color='blue', marker='o')\n",
    "\n",
    "plt.title('Relation between Rating and Price of the Smartphones')\n",
    "plt.xlabel('Price')\n",
    "plt.ylabel('Rating')\n"
   ]
  },
  {
   "cell_type": "markdown",
   "metadata": {},
   "source": [
    "Based on the information given by the creator of the tables, the values available on the price are in Indian National Rupples. Let's convert it to US Dollar so it can be easy for more audiences to interpret. <br>\n",
    "\n",
    "1 Dollar = 83,90 Indian National Rupples - Based on values for Date: August, 12 2024"
   ]
  },
  {
   "cell_type": "code",
   "execution_count": 11,
   "metadata": {},
   "outputs": [
    {
     "data": {
      "text/plain": [
       "count     879.000000\n",
       "mean      354.148749\n",
       "std       445.019719\n",
       "min        41.700000\n",
       "25%       160.890000\n",
       "50%       238.260000\n",
       "75%       381.360000\n",
       "max      7747.320000\n",
       "Name: price, dtype: float64"
      ]
     },
     "execution_count": 11,
     "metadata": {},
     "output_type": "execute_result"
    }
   ],
   "source": [
    "#convert the value \n",
    "df['price'] = df['price'].div(83.9).round(2)\n",
    "\n",
    "df['price'].describe()"
   ]
  },
  {
   "cell_type": "markdown",
   "metadata": {},
   "source": [
    "There are 3 outliers on this table for the price column"
   ]
  },
  {
   "cell_type": "code",
   "execution_count": 12,
   "metadata": {},
   "outputs": [
    {
     "data": {
      "text/html": [
       "<div>\n",
       "<style scoped>\n",
       "    .dataframe tbody tr th:only-of-type {\n",
       "        vertical-align: middle;\n",
       "    }\n",
       "\n",
       "    .dataframe tbody tr th {\n",
       "        vertical-align: top;\n",
       "    }\n",
       "\n",
       "    .dataframe thead th {\n",
       "        text-align: right;\n",
       "    }\n",
       "</style>\n",
       "<table border=\"1\" class=\"dataframe\">\n",
       "  <thead>\n",
       "    <tr style=\"text-align: right;\">\n",
       "      <th></th>\n",
       "      <th>brand_name</th>\n",
       "      <th>model</th>\n",
       "      <th>price</th>\n",
       "      <th>rating</th>\n",
       "      <th>has_5g</th>\n",
       "      <th>has_nfc</th>\n",
       "      <th>has_ir_blaster</th>\n",
       "      <th>processor_brand</th>\n",
       "      <th>num_cores</th>\n",
       "      <th>processor_speed</th>\n",
       "      <th>...</th>\n",
       "      <th>screen_size</th>\n",
       "      <th>refresh_rate</th>\n",
       "      <th>resolution</th>\n",
       "      <th>num_rear_cameras</th>\n",
       "      <th>num_front_cameras</th>\n",
       "      <th>os</th>\n",
       "      <th>primary_camera_rear</th>\n",
       "      <th>primary_camera_front</th>\n",
       "      <th>extended_memory_available</th>\n",
       "      <th>extended_upto</th>\n",
       "    </tr>\n",
       "  </thead>\n",
       "  <tbody>\n",
       "    <tr>\n",
       "      <th>427</th>\n",
       "      <td>vertu</td>\n",
       "      <td>Vertu Signature Touch</td>\n",
       "      <td>7747.32</td>\n",
       "      <td>62.0</td>\n",
       "      <td>False</td>\n",
       "      <td>True</td>\n",
       "      <td>False</td>\n",
       "      <td>snapdragon</td>\n",
       "      <td>8.0</td>\n",
       "      <td>1.50</td>\n",
       "      <td>...</td>\n",
       "      <td>4.70</td>\n",
       "      <td>60</td>\n",
       "      <td>1080 x 1920</td>\n",
       "      <td>1</td>\n",
       "      <td>1.0</td>\n",
       "      <td>android</td>\n",
       "      <td>13.0</td>\n",
       "      <td>2.1</td>\n",
       "      <td>0</td>\n",
       "      <td>NaN</td>\n",
       "    </tr>\n",
       "    <tr>\n",
       "      <th>887</th>\n",
       "      <td>xiaomi</td>\n",
       "      <td>Xiaomi Redmi K20 Pro Signature Edition</td>\n",
       "      <td>5721.10</td>\n",
       "      <td>88.0</td>\n",
       "      <td>False</td>\n",
       "      <td>True</td>\n",
       "      <td>False</td>\n",
       "      <td>snapdragon</td>\n",
       "      <td>8.0</td>\n",
       "      <td>2.80</td>\n",
       "      <td>...</td>\n",
       "      <td>6.39</td>\n",
       "      <td>60</td>\n",
       "      <td>1080 x 2340</td>\n",
       "      <td>3</td>\n",
       "      <td>1.0</td>\n",
       "      <td>android</td>\n",
       "      <td>48.0</td>\n",
       "      <td>20.0</td>\n",
       "      <td>0</td>\n",
       "      <td>NaN</td>\n",
       "    </tr>\n",
       "    <tr>\n",
       "      <th>478</th>\n",
       "      <td>huawei</td>\n",
       "      <td>Huawei Mate 50 RS Porsche Design</td>\n",
       "      <td>2860.54</td>\n",
       "      <td>81.0</td>\n",
       "      <td>False</td>\n",
       "      <td>True</td>\n",
       "      <td>True</td>\n",
       "      <td>snapdragon</td>\n",
       "      <td>8.0</td>\n",
       "      <td>3.20</td>\n",
       "      <td>...</td>\n",
       "      <td>6.74</td>\n",
       "      <td>120</td>\n",
       "      <td>1212 x 2616</td>\n",
       "      <td>3</td>\n",
       "      <td>1.0</td>\n",
       "      <td>other</td>\n",
       "      <td>50.0</td>\n",
       "      <td>13.0</td>\n",
       "      <td>1</td>\n",
       "      <td>256.0</td>\n",
       "    </tr>\n",
       "    <tr>\n",
       "      <th>288</th>\n",
       "      <td>apple</td>\n",
       "      <td>Apple iPhone 14 Pro Max (1TB)</td>\n",
       "      <td>2181.16</td>\n",
       "      <td>78.0</td>\n",
       "      <td>True</td>\n",
       "      <td>True</td>\n",
       "      <td>False</td>\n",
       "      <td>bionic</td>\n",
       "      <td>6.0</td>\n",
       "      <td>NaN</td>\n",
       "      <td>...</td>\n",
       "      <td>6.70</td>\n",
       "      <td>120</td>\n",
       "      <td>1290 x 2796</td>\n",
       "      <td>3</td>\n",
       "      <td>1.0</td>\n",
       "      <td>ios</td>\n",
       "      <td>48.0</td>\n",
       "      <td>12.0</td>\n",
       "      <td>0</td>\n",
       "      <td>NaN</td>\n",
       "    </tr>\n",
       "    <tr>\n",
       "      <th>756</th>\n",
       "      <td>apple</td>\n",
       "      <td>Apple iPhone 13 Pro Max (1TB)</td>\n",
       "      <td>2144.22</td>\n",
       "      <td>86.0</td>\n",
       "      <td>True</td>\n",
       "      <td>True</td>\n",
       "      <td>False</td>\n",
       "      <td>bionic</td>\n",
       "      <td>6.0</td>\n",
       "      <td>3.22</td>\n",
       "      <td>...</td>\n",
       "      <td>6.70</td>\n",
       "      <td>120</td>\n",
       "      <td>1284 x 2778</td>\n",
       "      <td>3</td>\n",
       "      <td>1.0</td>\n",
       "      <td>ios</td>\n",
       "      <td>12.0</td>\n",
       "      <td>12.0</td>\n",
       "      <td>0</td>\n",
       "      <td>NaN</td>\n",
       "    </tr>\n",
       "  </tbody>\n",
       "</table>\n",
       "<p>5 rows × 25 columns</p>\n",
       "</div>"
      ],
      "text/plain": [
       "    brand_name                                   model    price  rating  \\\n",
       "427      vertu                   Vertu Signature Touch  7747.32    62.0   \n",
       "887     xiaomi  Xiaomi Redmi K20 Pro Signature Edition  5721.10    88.0   \n",
       "478     huawei        Huawei Mate 50 RS Porsche Design  2860.54    81.0   \n",
       "288      apple           Apple iPhone 14 Pro Max (1TB)  2181.16    78.0   \n",
       "756      apple           Apple iPhone 13 Pro Max (1TB)  2144.22    86.0   \n",
       "\n",
       "     has_5g  has_nfc  has_ir_blaster processor_brand  num_cores  \\\n",
       "427   False     True           False      snapdragon        8.0   \n",
       "887   False     True           False      snapdragon        8.0   \n",
       "478   False     True            True      snapdragon        8.0   \n",
       "288    True     True           False          bionic        6.0   \n",
       "756    True     True           False          bionic        6.0   \n",
       "\n",
       "     processor_speed  ...  screen_size  refresh_rate    resolution  \\\n",
       "427             1.50  ...         4.70            60  1080 x 1920    \n",
       "887             2.80  ...         6.39            60  1080 x 2340    \n",
       "478             3.20  ...         6.74           120  1212 x 2616    \n",
       "288              NaN  ...         6.70           120  1290 x 2796    \n",
       "756             3.22  ...         6.70           120  1284 x 2778    \n",
       "\n",
       "     num_rear_cameras  num_front_cameras       os  primary_camera_rear  \\\n",
       "427                 1                1.0  android                 13.0   \n",
       "887                 3                1.0  android                 48.0   \n",
       "478                 3                1.0    other                 50.0   \n",
       "288                 3                1.0      ios                 48.0   \n",
       "756                 3                1.0      ios                 12.0   \n",
       "\n",
       "    primary_camera_front  extended_memory_available  extended_upto  \n",
       "427                  2.1                          0            NaN  \n",
       "887                 20.0                          0            NaN  \n",
       "478                 13.0                          1          256.0  \n",
       "288                 12.0                          0            NaN  \n",
       "756                 12.0                          0            NaN  \n",
       "\n",
       "[5 rows x 25 columns]"
      ]
     },
     "execution_count": 12,
     "metadata": {},
     "output_type": "execute_result"
    }
   ],
   "source": [
    "#Creating a new dataframe and sorting descending to check which are the outliers\n",
    "price_desc = df.sort_values(['price'], ascending=[False])\n",
    "\n",
    "price_desc.head()"
   ]
  },
  {
   "cell_type": "code",
   "execution_count": 14,
   "metadata": {},
   "outputs": [],
   "source": [
    "#Removing the outliers from the original table\n",
    "df = df[~df['price'].isin([7747.32, 5721.10, 2860.54])]\n"
   ]
  },
  {
   "cell_type": "code",
   "execution_count": 15,
   "metadata": {},
   "outputs": [
    {
     "data": {
      "text/plain": [
       "count    876.000000\n",
       "mean      78.262557\n",
       "std        7.387218\n",
       "min       60.000000\n",
       "25%       74.000000\n",
       "50%       80.000000\n",
       "75%       84.000000\n",
       "max       89.000000\n",
       "Name: rating, dtype: float64"
      ]
     },
     "execution_count": 15,
     "metadata": {},
     "output_type": "execute_result"
    }
   ],
   "source": [
    "#Checking now the information about the rating column after the outliers removal\n",
    "df['rating'].describe()"
   ]
  },
  {
   "cell_type": "code",
   "execution_count": 16,
   "metadata": {},
   "outputs": [
    {
     "data": {
      "text/plain": [
       "Text(0, 0.5, 'Rating')"
      ]
     },
     "execution_count": 16,
     "metadata": {},
     "output_type": "execute_result"
    },
    {
     "data": {
      "image/png": "[encoded data removed]",
      "text/plain": [
       "<Figure size 800x600 with 1 Axes>"
      ]
     },
     "metadata": {},
     "output_type": "display_data"
    }
   ],
   "source": [
    "#Creating a scatterplot using varibales Reviews and Installs\n",
    "\n",
    "plt.figure(figsize=(8,6))\n",
    "plt.scatter(df['price'], df['rating'], color='orange', marker='o')\n",
    "\n",
    "plt.title('Relation between Rating and Price of the Smartphones')\n",
    "plt.xlabel('Price')\n",
    "plt.ylabel('Rating')"
   ]
  },
  {
   "cell_type": "markdown",
   "metadata": {},
   "source": [
    "With the scatterplot created, it is possible to observe that there are more agruppated observations than the less dispersed observations, but there is variation when the prices of smartphones exceed 1000 dollars. In this case, the 'complete' method is more appropriate as it considers the greatest distances between the variables"
   ]
  },
  {
   "cell_type": "code",
   "execution_count": 248,
   "metadata": {},
   "outputs": [],
   "source": [
    "#creating a dataframe containing only the metrics variables\n",
    "price_rate = df[['price','rating']]"
   ]
  },
  {
   "cell_type": "code",
   "execution_count": 249,
   "metadata": {},
   "outputs": [
    {
     "name": "stdout",
     "output_type": "stream",
     "text": [
      "price     0.0\n",
      "rating   -0.0\n",
      "dtype: float64\n",
      "price     1.0\n",
      "rating    1.0\n",
      "dtype: float64\n"
     ]
    }
   ],
   "source": [
    "#Applying Z-Score to put the variables at the same level\n",
    "price_rate = price_rate.apply(zscore, ddof=1)\n",
    "\n",
    "#Checking the results of ZScore\n",
    "print(round(price_rate.mean(), 2))\n",
    "print(round(price_rate.std(), 2))"
   ]
  },
  {
   "cell_type": "code",
   "execution_count": 250,
   "metadata": {},
   "outputs": [
    {
     "data": {
      "image/png": "[encoded data removed]",
      "text/plain": [
       "<Figure size 1600x800 with 1 Axes>"
      ]
     },
     "metadata": {},
     "output_type": "display_data"
    }
   ],
   "source": [
    "#Creating the Dendogram\n",
    "plt.figure(figsize=(16,8))\n",
    "dend_sing_euc = sch.linkage(price_rate, method = 'median', metric = 'euclidean')\n",
    "dendrogram_euc = sch.dendrogram(dend_sing_euc, color_threshold = 55, labels = list(price_rate.price))\n",
    "plt.title('Dendogram', fontsize=16)\n",
    "plt.xticks([])\n",
    "plt.xlabel('Prices', fontsize=16)\n",
    "plt.ylabel('Euclidian Distance', fontsize=16)\n",
    "plt.axhline(y = 2.5, color = 'black', linestyle = '--')\n",
    "plt.show()"
   ]
  },
  {
   "cell_type": "markdown",
   "metadata": {},
   "source": [
    "To avoid significant distance jumps in the analysis, I choose to keep it to 3 groups"
   ]
  },
  {
   "cell_type": "code",
   "execution_count": 257,
   "metadata": {},
   "outputs": [],
   "source": [
    "#Adding the new column on the original dataframe\n",
    "creating_cluster = AgglomerativeClustering(n_clusters = 3, metric = 'euclidean', linkage = 'complete')\n",
    "indica_cluster_comp = creating_cluster.fit_predict(price_rate)\n",
    "df['cluster_average'] = indica_cluster_comp\n",
    "df['cluster_average'] = df['cluster_average'].astype('category')"
   ]
  },
  {
   "cell_type": "code",
   "execution_count": 258,
   "metadata": {},
   "outputs": [
    {
     "data": {
      "image/png": "[encoded data removed]",
      "text/plain": [
       "<Figure size 1000x1000 with 1 Axes>"
      ]
     },
     "metadata": {},
     "output_type": "display_data"
    }
   ],
   "source": [
    "#printing the Scatter Plot to see the clusters.\n",
    "plt.figure(figsize=(10,10))\n",
    "fig = sns.scatterplot(x='price', y='rating', s=60, data=df, hue='cluster_average')\n",
    "plt.title('Clusters', fontsize=16)\n",
    "plt.xlabel('price', fontsize=16)\n",
    "plt.ylabel('rating', fontsize=16)\n",
    "plt.show()"
   ]
  },
  {
   "cell_type": "markdown",
   "metadata": {},
   "source": [
    "With the model completed, we can determine:\n",
    "- Cluster with value 0 -  blue - indicate smartphones that can be considered \"Cost-Benefit\". Good price and rate above the average.\n",
    "- Cluster with value 1 - orange - indicate smartphones more expensive but with only with rates above the average. Probablly more advanced phones.\n",
    "- Cluster with value 2 - green - indicate smartphones with rates minor than the median and with lower cost. Probably more simple and entry models."
   ]
  },
  {
   "cell_type": "markdown",
   "metadata": {},
   "source": [
    "This analysis can assist the retailer in determining the quantity of products that will be sold, helping them understand their business. It can also highlight how much they will need to invest in purchasing the appropriate models for their enterprise"
   ]
  },
  {
   "cell_type": "markdown",
   "metadata": {},
   "source": []
  },
  {
   "cell_type": "markdown",
   "metadata": {},
   "source": [
    "After checking with the owner of the dataset, there is not source about the rating column, so the points are not based in any real analysis. What I'll do is to create a new rating column based in my own evaluation."
   ]
  },
  {
   "cell_type": "markdown",
   "metadata": {},
   "source": [
    "For Smartphones, there are some characteristis which indicates that can evaluate and can increase the ratings:\n",
    "- Batter Cappacity\n",
    "- Processor Speed\n",
    "- If fast charging is available\n",
    "- Ram capacity\n",
    "- Internal storage\n",
    "- Refresh Rate\n",
    "- Resolution\n",
    "- Number of back cameras\n",
    "- Number of front cameras\n",
    "\n",
    "\n",
    "These details are available on the dataset as below:"
   ]
  },
  {
   "cell_type": "code",
   "execution_count": 6,
   "metadata": {},
   "outputs": [
    {
     "data": {
      "text/html": [
       "<div>\n",
       "<style scoped>\n",
       "    .dataframe tbody tr th:only-of-type {\n",
       "        vertical-align: middle;\n",
       "    }\n",
       "\n",
       "    .dataframe tbody tr th {\n",
       "        vertical-align: top;\n",
       "    }\n",
       "\n",
       "    .dataframe thead th {\n",
       "        text-align: right;\n",
       "    }\n",
       "</style>\n",
       "<table border=\"1\" class=\"dataframe\">\n",
       "  <thead>\n",
       "    <tr style=\"text-align: right;\">\n",
       "      <th></th>\n",
       "      <th>brand_name</th>\n",
       "      <th>model</th>\n",
       "      <th>price</th>\n",
       "      <th>rating</th>\n",
       "      <th>has_5g</th>\n",
       "      <th>has_nfc</th>\n",
       "      <th>has_ir_blaster</th>\n",
       "      <th>processor_brand</th>\n",
       "      <th>num_cores</th>\n",
       "      <th>processor_speed</th>\n",
       "      <th>battery_capacity</th>\n",
       "      <th>fast_charging_available</th>\n",
       "      <th>fast_charging</th>\n",
       "      <th>ram_capacity</th>\n",
       "      <th>internal_memory</th>\n",
       "      <th>screen_size</th>\n",
       "      <th>refresh_rate</th>\n",
       "      <th>resolution</th>\n",
       "      <th>num_rear_cameras</th>\n",
       "      <th>num_front_cameras</th>\n",
       "      <th>os</th>\n",
       "      <th>primary_camera_rear</th>\n",
       "      <th>primary_camera_front</th>\n",
       "      <th>extended_memory_available</th>\n",
       "      <th>extended_upto</th>\n",
       "    </tr>\n",
       "  </thead>\n",
       "  <tbody>\n",
       "    <tr>\n",
       "      <th>0</th>\n",
       "      <td>oneplus</td>\n",
       "      <td>OnePlus 11 5G</td>\n",
       "      <td>54999</td>\n",
       "      <td>89.0</td>\n",
       "      <td>True</td>\n",
       "      <td>True</td>\n",
       "      <td>False</td>\n",
       "      <td>snapdragon</td>\n",
       "      <td>8.0</td>\n",
       "      <td>3.2</td>\n",
       "      <td>5000.0</td>\n",
       "      <td>1</td>\n",
       "      <td>100.0</td>\n",
       "      <td>12.0</td>\n",
       "      <td>256.0</td>\n",
       "      <td>6.70</td>\n",
       "      <td>120</td>\n",
       "      <td>1440 x 3216</td>\n",
       "      <td>3</td>\n",
       "      <td>1.0</td>\n",
       "      <td>android</td>\n",
       "      <td>50.0</td>\n",
       "      <td>16.0</td>\n",
       "      <td>0</td>\n",
       "      <td>NaN</td>\n",
       "    </tr>\n",
       "    <tr>\n",
       "      <th>1</th>\n",
       "      <td>oneplus</td>\n",
       "      <td>OnePlus Nord CE 2 Lite 5G</td>\n",
       "      <td>19989</td>\n",
       "      <td>81.0</td>\n",
       "      <td>True</td>\n",
       "      <td>False</td>\n",
       "      <td>False</td>\n",
       "      <td>snapdragon</td>\n",
       "      <td>8.0</td>\n",
       "      <td>2.2</td>\n",
       "      <td>5000.0</td>\n",
       "      <td>1</td>\n",
       "      <td>33.0</td>\n",
       "      <td>6.0</td>\n",
       "      <td>128.0</td>\n",
       "      <td>6.59</td>\n",
       "      <td>120</td>\n",
       "      <td>1080 x 2412</td>\n",
       "      <td>3</td>\n",
       "      <td>1.0</td>\n",
       "      <td>android</td>\n",
       "      <td>64.0</td>\n",
       "      <td>16.0</td>\n",
       "      <td>1</td>\n",
       "      <td>1024.0</td>\n",
       "    </tr>\n",
       "    <tr>\n",
       "      <th>2</th>\n",
       "      <td>samsung</td>\n",
       "      <td>Samsung Galaxy A14 5G</td>\n",
       "      <td>16499</td>\n",
       "      <td>75.0</td>\n",
       "      <td>True</td>\n",
       "      <td>False</td>\n",
       "      <td>False</td>\n",
       "      <td>exynos</td>\n",
       "      <td>8.0</td>\n",
       "      <td>2.4</td>\n",
       "      <td>5000.0</td>\n",
       "      <td>1</td>\n",
       "      <td>15.0</td>\n",
       "      <td>4.0</td>\n",
       "      <td>64.0</td>\n",
       "      <td>6.60</td>\n",
       "      <td>90</td>\n",
       "      <td>1080 x 2408</td>\n",
       "      <td>3</td>\n",
       "      <td>1.0</td>\n",
       "      <td>android</td>\n",
       "      <td>50.0</td>\n",
       "      <td>13.0</td>\n",
       "      <td>1</td>\n",
       "      <td>1024.0</td>\n",
       "    </tr>\n",
       "    <tr>\n",
       "      <th>3</th>\n",
       "      <td>motorola</td>\n",
       "      <td>Motorola Moto G62 5G</td>\n",
       "      <td>14999</td>\n",
       "      <td>81.0</td>\n",
       "      <td>True</td>\n",
       "      <td>False</td>\n",
       "      <td>False</td>\n",
       "      <td>snapdragon</td>\n",
       "      <td>8.0</td>\n",
       "      <td>2.2</td>\n",
       "      <td>5000.0</td>\n",
       "      <td>1</td>\n",
       "      <td>NaN</td>\n",
       "      <td>6.0</td>\n",
       "      <td>128.0</td>\n",
       "      <td>6.55</td>\n",
       "      <td>120</td>\n",
       "      <td>1080 x 2400</td>\n",
       "      <td>3</td>\n",
       "      <td>1.0</td>\n",
       "      <td>android</td>\n",
       "      <td>50.0</td>\n",
       "      <td>16.0</td>\n",
       "      <td>1</td>\n",
       "      <td>1024.0</td>\n",
       "    </tr>\n",
       "    <tr>\n",
       "      <th>4</th>\n",
       "      <td>realme</td>\n",
       "      <td>Realme 10 Pro Plus</td>\n",
       "      <td>24999</td>\n",
       "      <td>82.0</td>\n",
       "      <td>True</td>\n",
       "      <td>False</td>\n",
       "      <td>False</td>\n",
       "      <td>dimensity</td>\n",
       "      <td>8.0</td>\n",
       "      <td>2.6</td>\n",
       "      <td>5000.0</td>\n",
       "      <td>1</td>\n",
       "      <td>67.0</td>\n",
       "      <td>6.0</td>\n",
       "      <td>128.0</td>\n",
       "      <td>6.70</td>\n",
       "      <td>120</td>\n",
       "      <td>1080 x 2412</td>\n",
       "      <td>3</td>\n",
       "      <td>1.0</td>\n",
       "      <td>android</td>\n",
       "      <td>108.0</td>\n",
       "      <td>16.0</td>\n",
       "      <td>0</td>\n",
       "      <td>NaN</td>\n",
       "    </tr>\n",
       "  </tbody>\n",
       "</table>\n",
       "</div>"
      ],
      "text/plain": [
       "  brand_name                      model  price  rating  has_5g  has_nfc  \\\n",
       "0    oneplus              OnePlus 11 5G  54999    89.0    True     True   \n",
       "1    oneplus  OnePlus Nord CE 2 Lite 5G  19989    81.0    True    False   \n",
       "2    samsung      Samsung Galaxy A14 5G  16499    75.0    True    False   \n",
       "3   motorola       Motorola Moto G62 5G  14999    81.0    True    False   \n",
       "4     realme         Realme 10 Pro Plus  24999    82.0    True    False   \n",
       "\n",
       "   has_ir_blaster processor_brand  num_cores  processor_speed  \\\n",
       "0           False      snapdragon        8.0              3.2   \n",
       "1           False      snapdragon        8.0              2.2   \n",
       "2           False          exynos        8.0              2.4   \n",
       "3           False      snapdragon        8.0              2.2   \n",
       "4           False       dimensity        8.0              2.6   \n",
       "\n",
       "   battery_capacity  fast_charging_available  fast_charging  ram_capacity  \\\n",
       "0            5000.0                        1          100.0          12.0   \n",
       "1            5000.0                        1           33.0           6.0   \n",
       "2            5000.0                        1           15.0           4.0   \n",
       "3            5000.0                        1            NaN           6.0   \n",
       "4            5000.0                        1           67.0           6.0   \n",
       "\n",
       "   internal_memory  screen_size  refresh_rate    resolution  num_rear_cameras  \\\n",
       "0            256.0         6.70           120  1440 x 3216                  3   \n",
       "1            128.0         6.59           120  1080 x 2412                  3   \n",
       "2             64.0         6.60            90  1080 x 2408                  3   \n",
       "3            128.0         6.55           120  1080 x 2400                  3   \n",
       "4            128.0         6.70           120  1080 x 2412                  3   \n",
       "\n",
       "   num_front_cameras       os  primary_camera_rear  primary_camera_front  \\\n",
       "0                1.0  android                 50.0                  16.0   \n",
       "1                1.0  android                 64.0                  16.0   \n",
       "2                1.0  android                 50.0                  13.0   \n",
       "3                1.0  android                 50.0                  16.0   \n",
       "4                1.0  android                108.0                  16.0   \n",
       "\n",
       "   extended_memory_available  extended_upto  \n",
       "0                          0            NaN  \n",
       "1                          1         1024.0  \n",
       "2                          1         1024.0  \n",
       "3                          1         1024.0  \n",
       "4                          0            NaN  "
      ]
     },
     "execution_count": 6,
     "metadata": {},
     "output_type": "execute_result"
    }
   ],
   "source": [
    "pd.set_option('display.max_columns', None)\n",
    "df.head(5)"
   ]
  },
  {
   "cell_type": "code",
   "execution_count": 215,
   "metadata": {},
   "outputs": [
    {
     "data": {
      "text/plain": [
       "count      980.000000\n",
       "mean      4763.671429\n",
       "std       1124.983036\n",
       "min          0.000000\n",
       "25%       4500.000000\n",
       "50%       5000.000000\n",
       "75%       5000.000000\n",
       "max      22000.000000\n",
       "Name: battery_capacity, dtype: float64"
      ]
     },
     "execution_count": 215,
     "metadata": {},
     "output_type": "execute_result"
    }
   ],
   "source": [
    "#Checking details for column Batter Capacity:\n",
    "df['battery_capacity'].describe()\n"
   ]
  },
  {
   "cell_type": "code",
   "execution_count": 216,
   "metadata": {},
   "outputs": [
    {
     "name": "stdout",
     "output_type": "stream",
     "text": [
      "<class 'pandas.core.series.Series'>\n",
      "RangeIndex: 980 entries, 0 to 979\n",
      "Series name: battery_capacity\n",
      "Non-Null Count  Dtype  \n",
      "--------------  -----  \n",
      "980 non-null    float64\n",
      "dtypes: float64(1)\n",
      "memory usage: 7.8 KB\n"
     ]
    }
   ],
   "source": [
    "df['battery_capacity'].info()"
   ]
  },
  {
   "cell_type": "code",
   "execution_count": 217,
   "metadata": {},
   "outputs": [
    {
     "name": "stdout",
     "output_type": "stream",
     "text": [
      "Number of null values: 0\n"
     ]
    }
   ],
   "source": [
    "print(\"Number of null values:\", df['battery_capacity'].isna().sum())"
   ]
  },
  {
   "cell_type": "code",
   "execution_count": 218,
   "metadata": {},
   "outputs": [],
   "source": [
    "#Replacing NA to zero\n",
    "df['battery_capacity'].fillna(0, inplace=True)"
   ]
  },
  {
   "cell_type": "code",
   "execution_count": 219,
   "metadata": {},
   "outputs": [
    {
     "name": "stdout",
     "output_type": "stream",
     "text": [
      "Number of null values: 0\n"
     ]
    }
   ],
   "source": [
    "print(\"Number of null values:\", df['battery_capacity'].isna().sum())"
   ]
  },
  {
   "cell_type": "markdown",
   "metadata": {},
   "source": [
    "For the Batter Capacity, I'll consider 4 levels."
   ]
  },
  {
   "cell_type": "code",
   "execution_count": 220,
   "metadata": {},
   "outputs": [],
   "source": [
    "#Creating the 4 levels of range:\n",
    "levels_range_battery = [(0, 2500), (2500, 5000), (5000, 7500), (7500, np.infty)]\n",
    "ranges = pd.IntervalIndex.from_tuples(levels_range_battery, closed = 'left')\n",
    "battery_capacity_levels = pd.cut(df['battery_capacity'], bins=ranges)\n",
    "battery_rating = pd.DataFrame({\n",
    "    'battery_capacity': df['battery_capacity'],\n",
    "    'battery_capacity_levels': battery_capacity_levels\n",
    "})"
   ]
  },
  {
   "cell_type": "code",
   "execution_count": 214,
   "metadata": {},
   "outputs": [
    {
     "data": {
      "text/html": [
       "<div>\n",
       "<style scoped>\n",
       "    .dataframe tbody tr th:only-of-type {\n",
       "        vertical-align: middle;\n",
       "    }\n",
       "\n",
       "    .dataframe tbody tr th {\n",
       "        vertical-align: top;\n",
       "    }\n",
       "\n",
       "    .dataframe thead th {\n",
       "        text-align: right;\n",
       "    }\n",
       "</style>\n",
       "<table border=\"1\" class=\"dataframe\">\n",
       "  <thead>\n",
       "    <tr style=\"text-align: right;\">\n",
       "      <th></th>\n",
       "      <th>battery_capacity</th>\n",
       "      <th>battery_capacity_levels</th>\n",
       "    </tr>\n",
       "  </thead>\n",
       "  <tbody>\n",
       "    <tr>\n",
       "      <th>0</th>\n",
       "      <td>5000.0</td>\n",
       "      <td>[5000.0, 7500.0)</td>\n",
       "    </tr>\n",
       "    <tr>\n",
       "      <th>1</th>\n",
       "      <td>5000.0</td>\n",
       "      <td>[5000.0, 7500.0)</td>\n",
       "    </tr>\n",
       "    <tr>\n",
       "      <th>2</th>\n",
       "      <td>5000.0</td>\n",
       "      <td>[5000.0, 7500.0)</td>\n",
       "    </tr>\n",
       "    <tr>\n",
       "      <th>3</th>\n",
       "      <td>5000.0</td>\n",
       "      <td>[5000.0, 7500.0)</td>\n",
       "    </tr>\n",
       "    <tr>\n",
       "      <th>4</th>\n",
       "      <td>5000.0</td>\n",
       "      <td>[5000.0, 7500.0)</td>\n",
       "    </tr>\n",
       "  </tbody>\n",
       "</table>\n",
       "</div>"
      ],
      "text/plain": [
       "   battery_capacity battery_capacity_levels\n",
       "0            5000.0        [5000.0, 7500.0)\n",
       "1            5000.0        [5000.0, 7500.0)\n",
       "2            5000.0        [5000.0, 7500.0)\n",
       "3            5000.0        [5000.0, 7500.0)\n",
       "4            5000.0        [5000.0, 7500.0)"
      ]
     },
     "execution_count": 214,
     "metadata": {},
     "output_type": "execute_result"
    }
   ],
   "source": [
    "battery_rating.head()"
   ]
  },
  {
   "cell_type": "code",
   "execution_count": 221,
   "metadata": {},
   "outputs": [],
   "source": [
    "#Replacing the values to labels\n",
    "four_levels = ['1', \"2\", \"3\", \"4\"]\n",
    "battery_rating['battery_capacity_levels'] = battery_rating['battery_capacity_levels'].cat.rename_categories(four_levels)"
   ]
  },
  {
   "cell_type": "code",
   "execution_count": 222,
   "metadata": {},
   "outputs": [
    {
     "data": {
      "text/html": [
       "<div>\n",
       "<style scoped>\n",
       "    .dataframe tbody tr th:only-of-type {\n",
       "        vertical-align: middle;\n",
       "    }\n",
       "\n",
       "    .dataframe tbody tr th {\n",
       "        vertical-align: top;\n",
       "    }\n",
       "\n",
       "    .dataframe thead th {\n",
       "        text-align: right;\n",
       "    }\n",
       "</style>\n",
       "<table border=\"1\" class=\"dataframe\">\n",
       "  <thead>\n",
       "    <tr style=\"text-align: right;\">\n",
       "      <th></th>\n",
       "      <th>battery_capacity</th>\n",
       "      <th>battery_capacity_levels</th>\n",
       "    </tr>\n",
       "  </thead>\n",
       "  <tbody>\n",
       "    <tr>\n",
       "      <th>0</th>\n",
       "      <td>5000.0</td>\n",
       "      <td>3</td>\n",
       "    </tr>\n",
       "    <tr>\n",
       "      <th>1</th>\n",
       "      <td>5000.0</td>\n",
       "      <td>3</td>\n",
       "    </tr>\n",
       "    <tr>\n",
       "      <th>2</th>\n",
       "      <td>5000.0</td>\n",
       "      <td>3</td>\n",
       "    </tr>\n",
       "    <tr>\n",
       "      <th>3</th>\n",
       "      <td>5000.0</td>\n",
       "      <td>3</td>\n",
       "    </tr>\n",
       "    <tr>\n",
       "      <th>4</th>\n",
       "      <td>5000.0</td>\n",
       "      <td>3</td>\n",
       "    </tr>\n",
       "  </tbody>\n",
       "</table>\n",
       "</div>"
      ],
      "text/plain": [
       "   battery_capacity battery_capacity_levels\n",
       "0            5000.0                       3\n",
       "1            5000.0                       3\n",
       "2            5000.0                       3\n",
       "3            5000.0                       3\n",
       "4            5000.0                       3"
      ]
     },
     "execution_count": 222,
     "metadata": {},
     "output_type": "execute_result"
    }
   ],
   "source": [
    "battery_rating.head()"
   ]
  },
  {
   "cell_type": "code",
   "execution_count": 223,
   "metadata": {},
   "outputs": [
    {
     "data": {
      "text/plain": [
       "battery_capacity_levels\n",
       "1     20\n",
       "2    360\n",
       "3    596\n",
       "4      4\n",
       "Name: count, dtype: int64"
      ]
     },
     "execution_count": 223,
     "metadata": {},
     "output_type": "execute_result"
    }
   ],
   "source": [
    "battery_rating['battery_capacity_levels'].value_counts().sort_index()"
   ]
  },
  {
   "cell_type": "markdown",
   "metadata": {},
   "source": [
    "Now we have 4 levels for the Battery_Capacity.\n"
   ]
  },
  {
   "cell_type": "markdown",
   "metadata": {},
   "source": [
    "To improve the code, I'll create three functions for all the columns.\n",
    "- To replace the NA for zero\n",
    "- To describe and analyise the column\n",
    "- To create the levels for the columns"
   ]
  },
  {
   "cell_type": "code",
   "execution_count": 224,
   "metadata": {},
   "outputs": [],
   "source": [
    "def replace_nans(df, input_column):\n",
    "    value_of_na = df[input_column].isna().sum()\n",
    "    if value_of_na > 0:\n",
    "        df[input_column].fillna(0, inplace=True)\n",
    "        print(\"Empty values were replaced\")\n",
    "    else:\n",
    "        print(\"There is no empty values on this column\")"
   ]
  },
  {
   "cell_type": "code",
   "execution_count": 225,
   "metadata": {},
   "outputs": [],
   "source": [
    "def analyze_column(df, input_column):\n",
    "    print(df[input_column].describe())\n",
    "    print(df[input_column].value_counts().sort_index())"
   ]
  },
  {
   "cell_type": "code",
   "execution_count": 226,
   "metadata": {},
   "outputs": [],
   "source": [
    "def create_levels(df, intervals, source_column, new_column, four_levels):\n",
    "    ranges = pd.IntervalIndex.from_tuples(intervals, closed='left')\n",
    "    df[new_column] = pd.cut(df[source_column], bins=ranges)\n",
    "    df[new_column] = df[new_column].cat.rename_categories(labels)\n",
    "    result_df = df[[source_column, new_column]]\n",
    "    return result_df\n"
   ]
  },
  {
   "cell_type": "markdown",
   "metadata": {},
   "source": [
    "Let's evaluate the levels now for Processor Speed column:"
   ]
  },
  {
   "cell_type": "code",
   "execution_count": 227,
   "metadata": {},
   "outputs": [
    {
     "name": "stdout",
     "output_type": "stream",
     "text": [
      "count    980.000000\n",
      "mean       2.323194\n",
      "std        0.669368\n",
      "min        0.000000\n",
      "25%        2.000000\n",
      "50%        2.300000\n",
      "75%        2.840000\n",
      "max        3.220000\n",
      "Name: processor_speed, dtype: float64\n",
      "processor_speed\n",
      "0.00     42\n",
      "1.20      1\n",
      "1.30     10\n",
      "1.40      5\n",
      "1.50      4\n",
      "1.60     20\n",
      "1.80     23\n",
      "1.82     10\n",
      "1.95      1\n",
      "1.99      1\n",
      "2.00    146\n",
      "2.05     28\n",
      "2.10      1\n",
      "2.20    135\n",
      "2.30     86\n",
      "2.35      1\n",
      "2.36      8\n",
      "2.37      1\n",
      "2.40    128\n",
      "2.50     23\n",
      "2.60     14\n",
      "2.65      5\n",
      "2.70      5\n",
      "2.73      9\n",
      "2.80      9\n",
      "2.84     36\n",
      "2.85     19\n",
      "2.86      3\n",
      "2.90     13\n",
      "2.96      3\n",
      "3.00     53\n",
      "3.05      8\n",
      "3.10     15\n",
      "3.13      2\n",
      "3.20     94\n",
      "3.22     18\n",
      "Name: count, dtype: int64\n"
     ]
    }
   ],
   "source": [
    "#Analyzing the column\n",
    "analyze_column(df, 'processor_speed')"
   ]
  },
  {
   "cell_type": "code",
   "execution_count": 228,
   "metadata": {},
   "outputs": [
    {
     "name": "stdout",
     "output_type": "stream",
     "text": [
      "There is no empty values on this column\n"
     ]
    }
   ],
   "source": [
    "#Checking if there is empty values on the processor_speed column:\n",
    "replace_nans(df, 'processor_speed')"
   ]
  },
  {
   "cell_type": "code",
   "execution_count": 229,
   "metadata": {},
   "outputs": [],
   "source": [
    "#creating the range levels for processor_speed based on the analysis\n",
    "intervals_processor_speed = [(0, 1.2), (1.2, 2.0), (2.0, 2.8), (2.8, np.infty)]"
   ]
  },
  {
   "cell_type": "code",
   "execution_count": 230,
   "metadata": {},
   "outputs": [
    {
     "data": {
      "text/html": [
       "<div>\n",
       "<style scoped>\n",
       "    .dataframe tbody tr th:only-of-type {\n",
       "        vertical-align: middle;\n",
       "    }\n",
       "\n",
       "    .dataframe tbody tr th {\n",
       "        vertical-align: top;\n",
       "    }\n",
       "\n",
       "    .dataframe thead th {\n",
       "        text-align: right;\n",
       "    }\n",
       "</style>\n",
       "<table border=\"1\" class=\"dataframe\">\n",
       "  <thead>\n",
       "    <tr style=\"text-align: right;\">\n",
       "      <th></th>\n",
       "      <th>processor_speed</th>\n",
       "      <th>processor_speed_levels</th>\n",
       "    </tr>\n",
       "  </thead>\n",
       "  <tbody>\n",
       "    <tr>\n",
       "      <th>0</th>\n",
       "      <td>3.20</td>\n",
       "      <td>4</td>\n",
       "    </tr>\n",
       "    <tr>\n",
       "      <th>1</th>\n",
       "      <td>2.20</td>\n",
       "      <td>3</td>\n",
       "    </tr>\n",
       "    <tr>\n",
       "      <th>2</th>\n",
       "      <td>2.40</td>\n",
       "      <td>3</td>\n",
       "    </tr>\n",
       "    <tr>\n",
       "      <th>3</th>\n",
       "      <td>2.20</td>\n",
       "      <td>3</td>\n",
       "    </tr>\n",
       "    <tr>\n",
       "      <th>4</th>\n",
       "      <td>2.60</td>\n",
       "      <td>3</td>\n",
       "    </tr>\n",
       "    <tr>\n",
       "      <th>...</th>\n",
       "      <td>...</td>\n",
       "      <td>...</td>\n",
       "    </tr>\n",
       "    <tr>\n",
       "      <th>975</th>\n",
       "      <td>3.00</td>\n",
       "      <td>4</td>\n",
       "    </tr>\n",
       "    <tr>\n",
       "      <th>976</th>\n",
       "      <td>2.20</td>\n",
       "      <td>3</td>\n",
       "    </tr>\n",
       "    <tr>\n",
       "      <th>977</th>\n",
       "      <td>2.85</td>\n",
       "      <td>4</td>\n",
       "    </tr>\n",
       "    <tr>\n",
       "      <th>978</th>\n",
       "      <td>2.20</td>\n",
       "      <td>3</td>\n",
       "    </tr>\n",
       "    <tr>\n",
       "      <th>979</th>\n",
       "      <td>0.00</td>\n",
       "      <td>1</td>\n",
       "    </tr>\n",
       "  </tbody>\n",
       "</table>\n",
       "<p>980 rows × 2 columns</p>\n",
       "</div>"
      ],
      "text/plain": [
       "     processor_speed processor_speed_levels\n",
       "0               3.20                      4\n",
       "1               2.20                      3\n",
       "2               2.40                      3\n",
       "3               2.20                      3\n",
       "4               2.60                      3\n",
       "..               ...                    ...\n",
       "975             3.00                      4\n",
       "976             2.20                      3\n",
       "977             2.85                      4\n",
       "978             2.20                      3\n",
       "979             0.00                      1\n",
       "\n",
       "[980 rows x 2 columns]"
      ]
     },
     "execution_count": 230,
     "metadata": {},
     "output_type": "execute_result"
    }
   ],
   "source": [
    "#applying the function for the processor_speed column\n",
    "rating_processor_speed = create_levels(df, intervals_processor_speed, 'processor_speed', 'processor_speed_levels', four_levels)\n",
    "rating_processor_speed "
   ]
  },
  {
   "cell_type": "code",
   "execution_count": 240,
   "metadata": {},
   "outputs": [
    {
     "name": "stdout",
     "output_type": "stream",
     "text": [
      "count    980.000000\n",
      "mean       6.560204\n",
      "std        2.744378\n",
      "min        1.000000\n",
      "25%        4.000000\n",
      "50%        6.000000\n",
      "75%        8.000000\n",
      "max       18.000000\n",
      "Name: ram_capacity, dtype: float64\n",
      "ram_capacity\n",
      "1.0       7\n",
      "2.0      32\n",
      "3.0      54\n",
      "4.0     217\n",
      "6.0     234\n",
      "8.0     339\n",
      "12.0     86\n",
      "16.0      9\n",
      "18.0      2\n",
      "Name: count, dtype: int64\n"
     ]
    }
   ],
   "source": [
    "#Analyzing the ram_capacity column\n",
    "analyze_column(df, 'ram_capacity')"
   ]
  },
  {
   "cell_type": "code",
   "execution_count": 239,
   "metadata": {},
   "outputs": [
    {
     "name": "stdout",
     "output_type": "stream",
     "text": [
      "There is no empty values on this column\n"
     ]
    }
   ],
   "source": [
    "#applying the functions for ram_capacity column\n",
    "replace_nans(df, 'ram_capacity')"
   ]
  },
  {
   "cell_type": "code",
   "execution_count": 244,
   "metadata": {},
   "outputs": [],
   "source": [
    "#creating the range levels for ram_capacity based on the analysis\n",
    "intervals_ram_capacity = [(0, 3), (3, 5), (5, np.infty)]\n",
    "three_levels = ['1', \"2\", \"3\"]"
   ]
  },
  {
   "cell_type": "code",
   "execution_count": null,
   "metadata": {},
   "outputs": [],
   "source": [
    "rating_ram_capacity = create_levels(df, intervals_ram_capacity, 'ram_capacity', 'pram_capacity_levels', three_levels)\n",
    "rating_ram_capacity"
   ]
  },
  {
   "cell_type": "code",
   "execution_count": 189,
   "metadata": {},
   "outputs": [
    {
     "name": "stdout",
     "output_type": "stream",
     "text": [
      "count     980.000000\n",
      "mean      141.036735\n",
      "std       107.134516\n",
      "min         8.000000\n",
      "25%        64.000000\n",
      "50%       128.000000\n",
      "75%       128.000000\n",
      "max      1024.000000\n",
      "Name: internal_memory, dtype: float64\n",
      "internal_memory\n",
      "8.0         1\n",
      "16.0       12\n",
      "32.0       67\n",
      "64.0      193\n",
      "128.0     523\n",
      "256.0     157\n",
      "512.0      22\n",
      "1024.0      5\n",
      "Name: count, dtype: int64\n"
     ]
    }
   ],
   "source": [
    "#Analyzing the internal storage capacity column\n",
    "analyze_column(df, 'internal_memory')"
   ]
  },
  {
   "cell_type": "code",
   "execution_count": 190,
   "metadata": {},
   "outputs": [
    {
     "name": "stdout",
     "output_type": "stream",
     "text": [
      "There is no empty values on this column\n"
     ]
    }
   ],
   "source": [
    "#applying the functions for ram_capacity column\n",
    "replace_nans(df, 'internal_memory')"
   ]
  },
  {
   "cell_type": "code",
   "execution_count": 193,
   "metadata": {},
   "outputs": [],
   "source": [
    "#creating the range levels for internal_memory based on the analysis\n",
    "intervals_internal_memory = [(0, 32), (32, 256), (256, np.infty)]\n",
    "labels_internal_memory = ['Level_1', \"Level_2\", \"Level_3\"]"
   ]
  },
  {
   "cell_type": "code",
   "execution_count": 196,
   "metadata": {},
   "outputs": [
    {
     "data": {
      "text/html": [
       "<div>\n",
       "<style scoped>\n",
       "    .dataframe tbody tr th:only-of-type {\n",
       "        vertical-align: middle;\n",
       "    }\n",
       "\n",
       "    .dataframe tbody tr th {\n",
       "        vertical-align: top;\n",
       "    }\n",
       "\n",
       "    .dataframe thead th {\n",
       "        text-align: right;\n",
       "    }\n",
       "</style>\n",
       "<table border=\"1\" class=\"dataframe\">\n",
       "  <thead>\n",
       "    <tr style=\"text-align: right;\">\n",
       "      <th></th>\n",
       "      <th>internal_memory</th>\n",
       "      <th>internal_memory_levels</th>\n",
       "    </tr>\n",
       "  </thead>\n",
       "  <tbody>\n",
       "    <tr>\n",
       "      <th>0</th>\n",
       "      <td>256.0</td>\n",
       "      <td>Level_3</td>\n",
       "    </tr>\n",
       "    <tr>\n",
       "      <th>1</th>\n",
       "      <td>128.0</td>\n",
       "      <td>Level_2</td>\n",
       "    </tr>\n",
       "    <tr>\n",
       "      <th>2</th>\n",
       "      <td>64.0</td>\n",
       "      <td>Level_2</td>\n",
       "    </tr>\n",
       "    <tr>\n",
       "      <th>3</th>\n",
       "      <td>128.0</td>\n",
       "      <td>Level_2</td>\n",
       "    </tr>\n",
       "    <tr>\n",
       "      <th>4</th>\n",
       "      <td>128.0</td>\n",
       "      <td>Level_2</td>\n",
       "    </tr>\n",
       "    <tr>\n",
       "      <th>...</th>\n",
       "      <td>...</td>\n",
       "      <td>...</td>\n",
       "    </tr>\n",
       "    <tr>\n",
       "      <th>975</th>\n",
       "      <td>128.0</td>\n",
       "      <td>Level_2</td>\n",
       "    </tr>\n",
       "    <tr>\n",
       "      <th>976</th>\n",
       "      <td>128.0</td>\n",
       "      <td>Level_2</td>\n",
       "    </tr>\n",
       "    <tr>\n",
       "      <th>977</th>\n",
       "      <td>256.0</td>\n",
       "      <td>Level_3</td>\n",
       "    </tr>\n",
       "    <tr>\n",
       "      <th>978</th>\n",
       "      <td>128.0</td>\n",
       "      <td>Level_2</td>\n",
       "    </tr>\n",
       "    <tr>\n",
       "      <th>979</th>\n",
       "      <td>128.0</td>\n",
       "      <td>Level_2</td>\n",
       "    </tr>\n",
       "  </tbody>\n",
       "</table>\n",
       "<p>980 rows × 2 columns</p>\n",
       "</div>"
      ],
      "text/plain": [
       "     internal_memory internal_memory_levels\n",
       "0              256.0                Level_3\n",
       "1              128.0                Level_2\n",
       "2               64.0                Level_2\n",
       "3              128.0                Level_2\n",
       "4              128.0                Level_2\n",
       "..               ...                    ...\n",
       "975            128.0                Level_2\n",
       "976            128.0                Level_2\n",
       "977            256.0                Level_3\n",
       "978            128.0                Level_2\n",
       "979            128.0                Level_2\n",
       "\n",
       "[980 rows x 2 columns]"
      ]
     },
     "execution_count": 196,
     "metadata": {},
     "output_type": "execute_result"
    }
   ],
   "source": [
    "rating_internal_memory = create_levels(df, intervals_internal_memory, 'internal_memory', 'internal_memory_levels', labels_internal_memory)\n",
    "rating_internal_memory "
   ]
  }
 ],
 "metadata": {
  "kernelspec": {
   "display_name": "base",
   "language": "python",
   "name": "python3"
  },
  "language_info": {
   "codemirror_mode": {
    "name": "ipython",
    "version": 3
   },
   "file_extension": ".py",
   "mimetype": "text/x-python",
   "name": "python",
   "nbconvert_exporter": "python",
   "pygments_lexer": "ipython3",
   "version": "3.12.4"
  }
 },
 "nbformat": 4,
 "nbformat_minor": 2
}
